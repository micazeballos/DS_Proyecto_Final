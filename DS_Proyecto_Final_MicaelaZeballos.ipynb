{
 "cells": [
  {
   "cell_type": "markdown",
   "id": "frank-champagne",
   "metadata": {},
   "source": [
    "# Informe Final de Carrera"
   ]
  },
  {
   "cell_type": "markdown",
   "id": "amber-hawaii",
   "metadata": {},
   "source": [
    "### Punto de partida"
   ]
  },
  {
   "cell_type": "markdown",
   "id": "foreign-offset",
   "metadata": {},
   "source": [
    "Elegi el proyecto 1 y 2 para continuar y realizar el informe final de la carrera, a continuacion me basaré en el desempeño del proyecto anterior realizando los cambios necesarios para contestar a la nueva problematica"
   ]
  },
  {
   "cell_type": "markdown",
   "id": "covered-barcelona",
   "metadata": {},
   "source": [
    "### Nuevo desafio"
   ]
  },
  {
   "cell_type": "markdown",
   "id": "suburban-damage",
   "metadata": {},
   "source": [
    "¿Se puede determinar que tipo de propiedad es un inmuble teniendo en cuenta los datos dados? <br>\n",
    "Me parece importante este punto ya que para los tipos de inmuble el dataset esta muy desbalanceado, contando con muchos departamentos, algunas casas y PH y pocas cocheras, lotes, oficinas, etc. Es muy comun que en problemas reales me encuentre con datasets desbalanceados, ya que no siempre hay mucha informacion de todo. Por lo tanto, elegi esta problematica para poder determinar cuales son las formas y metodos que se tiene para poder trabajar con un dataset desbalanceado."
   ]
  },
  {
   "cell_type": "markdown",
   "id": "manual-conjunction",
   "metadata": {},
   "source": [
    "### Repositorio: https://github.com/micazeballos/DS_Proyecto_Final"
   ]
  },
  {
   "cell_type": "markdown",
   "id": "novel-secretary",
   "metadata": {},
   "source": [
    "### Analisis exploratorio de datos"
   ]
  },
  {
   "cell_type": "markdown",
   "id": "burning-liberal",
   "metadata": {},
   "source": [
    "Para empezar voy a importar las librerias, inicializar nuevamente el Dataset y luego realizare algunas transformaciones de datos para obtener mejores resultados."
   ]
  },
  {
   "cell_type": "code",
   "execution_count": 1,
   "id": "experimental-arizona",
   "metadata": {},
   "outputs": [],
   "source": [
    "import numpy as np\n",
    "import pandas as pd\n",
    "import matplotlib.pyplot as plt\n",
    "from matplotlib import gridspec\n",
    "import seaborn as sns\n",
    "sns.set()\n",
    "from sklearn.ensemble import BaggingRegressor\n",
    "from sklearn.model_selection import RandomizedSearchCV\n",
    "from sklearn.model_selection import train_test_split\n",
    "from sklearn.neighbors import KNeighborsRegressor\n",
    "from math import sqrt\n",
    "from sklearn.preprocessing import LabelEncoder\n",
    "from sklearn.metrics import mean_squared_error\n",
    "from sklearn.tree import DecisionTreeRegressor\n",
    "from sklearn.preprocessing import StandardScaler\n",
    "from sklearn.preprocessing import PolynomialFeatures\n",
    "from sklearn.linear_model import LinearRegression\n",
    "from sklearn.linear_model import LogisticRegression\n",
    "from sklearn.model_selection import cross_validate\n",
    "import sklearn.metrics as metrics\n",
    "from sklearn.ensemble import RandomForestRegressor\n",
    "from sklearn.ensemble import AdaBoostRegressor\n",
    "import xgboost as xgb\n",
    "from sklearn.metrics import classification_report\n",
    "import sklearn.metrics as metrics\n",
    "from sklearn.model_selection import GridSearchCV\n",
    "from sklearn.metrics import accuracy_score, confusion_matrix, recall_score, precision_score, plot_confusion_matrix,classification_report\n",
    "from sklearn.decomposition import PCA\n",
    "from sklearn.tree import DecisionTreeClassifier\n",
    "from pylab import rcParams\n",
    "from imblearn.under_sampling import NearMiss\n",
    "from imblearn.over_sampling import RandomOverSampler\n",
    "from imblearn.combine import SMOTETomek\n",
    "from imblearn.ensemble import BalancedBaggingClassifier\n",
    "from collections import Counter"
   ]
  },
  {
   "cell_type": "code",
   "execution_count": 2,
   "id": "downtown-immune",
   "metadata": {},
   "outputs": [],
   "source": [
    "# SE DEBE MODIFICAR EL PATH PARA PODER EJECUTARLO\n",
    "data = pd.read_csv(\"C:/Users/Usuario/Documents/DATA SCIENCE/DATA SETS/DS_Proyecto_01_Datos_Properati.csv\")"
   ]
  },
  {
   "cell_type": "code",
   "execution_count": 3,
   "id": "lesser-tuesday",
   "metadata": {
    "scrolled": false
   },
   "outputs": [
    {
     "data": {
      "text/html": [
       "<div>\n",
       "<style scoped>\n",
       "    .dataframe tbody tr th:only-of-type {\n",
       "        vertical-align: middle;\n",
       "    }\n",
       "\n",
       "    .dataframe tbody tr th {\n",
       "        vertical-align: top;\n",
       "    }\n",
       "\n",
       "    .dataframe thead th {\n",
       "        text-align: right;\n",
       "    }\n",
       "</style>\n",
       "<table border=\"1\" class=\"dataframe\">\n",
       "  <thead>\n",
       "    <tr style=\"text-align: right;\">\n",
       "      <th></th>\n",
       "      <th>start_date</th>\n",
       "      <th>end_date</th>\n",
       "      <th>created_on</th>\n",
       "      <th>lat</th>\n",
       "      <th>lon</th>\n",
       "      <th>l1</th>\n",
       "      <th>l2</th>\n",
       "      <th>l3</th>\n",
       "      <th>rooms</th>\n",
       "      <th>bedrooms</th>\n",
       "      <th>bathrooms</th>\n",
       "      <th>surface_total</th>\n",
       "      <th>surface_covered</th>\n",
       "      <th>price</th>\n",
       "      <th>currency</th>\n",
       "      <th>title</th>\n",
       "      <th>description</th>\n",
       "      <th>property_type</th>\n",
       "      <th>operation_type</th>\n",
       "    </tr>\n",
       "  </thead>\n",
       "  <tbody>\n",
       "    <tr>\n",
       "      <th>0</th>\n",
       "      <td>2019-10-17</td>\n",
       "      <td>2019-12-23</td>\n",
       "      <td>2019-10-17</td>\n",
       "      <td>-34.605880</td>\n",
       "      <td>-58.384949</td>\n",
       "      <td>Argentina</td>\n",
       "      <td>Capital Federal</td>\n",
       "      <td>San Cristobal</td>\n",
       "      <td>7.0</td>\n",
       "      <td>7.0</td>\n",
       "      <td>2.0</td>\n",
       "      <td>140.0</td>\n",
       "      <td>140.0</td>\n",
       "      <td>153000.0</td>\n",
       "      <td>USD</td>\n",
       "      <td>***Venta semipiso centro, ideal hostel*****</td>\n",
       "      <td>DESCRIPCION DE LA PROPIEDAD: Departamento de 1...</td>\n",
       "      <td>Departamento</td>\n",
       "      <td>Venta</td>\n",
       "    </tr>\n",
       "    <tr>\n",
       "      <th>1</th>\n",
       "      <td>2019-10-17</td>\n",
       "      <td>2019-11-21</td>\n",
       "      <td>2019-10-17</td>\n",
       "      <td>-34.624056</td>\n",
       "      <td>-58.412110</td>\n",
       "      <td>Argentina</td>\n",
       "      <td>Capital Federal</td>\n",
       "      <td>Boedo</td>\n",
       "      <td>2.0</td>\n",
       "      <td>1.0</td>\n",
       "      <td>2.0</td>\n",
       "      <td>70.0</td>\n",
       "      <td>58.0</td>\n",
       "      <td>159000.0</td>\n",
       "      <td>USD</td>\n",
       "      <td>Espectacular PH reciclado en Boedo sin expensas.</td>\n",
       "      <td>PH reciclado en Boedo a una cuadra de la plaz...</td>\n",
       "      <td>PH</td>\n",
       "      <td>Venta</td>\n",
       "    </tr>\n",
       "    <tr>\n",
       "      <th>2</th>\n",
       "      <td>2019-10-17</td>\n",
       "      <td>2019-11-01</td>\n",
       "      <td>2019-10-17</td>\n",
       "      <td>-34.593569</td>\n",
       "      <td>-58.427474</td>\n",
       "      <td>Argentina</td>\n",
       "      <td>Capital Federal</td>\n",
       "      <td>Palermo</td>\n",
       "      <td>2.0</td>\n",
       "      <td>1.0</td>\n",
       "      <td>1.0</td>\n",
       "      <td>45.0</td>\n",
       "      <td>45.0</td>\n",
       "      <td>125000.0</td>\n",
       "      <td>USD</td>\n",
       "      <td>Depto.tipo casa de 2 ambientes en Venta en Pal...</td>\n",
       "      <td>2 ambienets amplio , excelente estado , patio ...</td>\n",
       "      <td>PH</td>\n",
       "      <td>Venta</td>\n",
       "    </tr>\n",
       "    <tr>\n",
       "      <th>3</th>\n",
       "      <td>2019-10-17</td>\n",
       "      <td>2019-12-23</td>\n",
       "      <td>2019-10-17</td>\n",
       "      <td>-34.581294</td>\n",
       "      <td>-58.436754</td>\n",
       "      <td>Argentina</td>\n",
       "      <td>Capital Federal</td>\n",
       "      <td>Palermo</td>\n",
       "      <td>2.0</td>\n",
       "      <td>1.0</td>\n",
       "      <td>1.0</td>\n",
       "      <td>85.0</td>\n",
       "      <td>50.0</td>\n",
       "      <td>295000.0</td>\n",
       "      <td>USD</td>\n",
       "      <td>COSTA RICA 5800 / PALERMO HOLLYWOOD / VENTA PH...</td>\n",
       "      <td>HERMOSO PH EN PALERMO!!!2 AMBIENTES TOTALMENTE...</td>\n",
       "      <td>PH</td>\n",
       "      <td>Venta</td>\n",
       "    </tr>\n",
       "    <tr>\n",
       "      <th>4</th>\n",
       "      <td>2019-10-17</td>\n",
       "      <td>2020-03-11</td>\n",
       "      <td>2019-10-17</td>\n",
       "      <td>-34.914194</td>\n",
       "      <td>-57.938219</td>\n",
       "      <td>Argentina</td>\n",
       "      <td>Bs.As. G.B.A. Zona Sur</td>\n",
       "      <td>La Plata</td>\n",
       "      <td>2.0</td>\n",
       "      <td>1.0</td>\n",
       "      <td>1.0</td>\n",
       "      <td>50.0</td>\n",
       "      <td>35.0</td>\n",
       "      <td>40000.0</td>\n",
       "      <td>USD</td>\n",
       "      <td>58 entre 1 y 2  Venta de departamento en ph.1 ...</td>\n",
       "      <td>58 entre 1 y 2  Venta de departamento en PH. P...</td>\n",
       "      <td>PH</td>\n",
       "      <td>Venta</td>\n",
       "    </tr>\n",
       "  </tbody>\n",
       "</table>\n",
       "</div>"
      ],
      "text/plain": [
       "   start_date    end_date  created_on        lat        lon         l1  \\\n",
       "0  2019-10-17  2019-12-23  2019-10-17 -34.605880 -58.384949  Argentina   \n",
       "1  2019-10-17  2019-11-21  2019-10-17 -34.624056 -58.412110  Argentina   \n",
       "2  2019-10-17  2019-11-01  2019-10-17 -34.593569 -58.427474  Argentina   \n",
       "3  2019-10-17  2019-12-23  2019-10-17 -34.581294 -58.436754  Argentina   \n",
       "4  2019-10-17  2020-03-11  2019-10-17 -34.914194 -57.938219  Argentina   \n",
       "\n",
       "                       l2             l3  rooms  bedrooms  bathrooms  \\\n",
       "0         Capital Federal  San Cristobal    7.0       7.0        2.0   \n",
       "1         Capital Federal          Boedo    2.0       1.0        2.0   \n",
       "2         Capital Federal        Palermo    2.0       1.0        1.0   \n",
       "3         Capital Federal        Palermo    2.0       1.0        1.0   \n",
       "4  Bs.As. G.B.A. Zona Sur       La Plata    2.0       1.0        1.0   \n",
       "\n",
       "   surface_total  surface_covered     price currency  \\\n",
       "0          140.0            140.0  153000.0      USD   \n",
       "1           70.0             58.0  159000.0      USD   \n",
       "2           45.0             45.0  125000.0      USD   \n",
       "3           85.0             50.0  295000.0      USD   \n",
       "4           50.0             35.0   40000.0      USD   \n",
       "\n",
       "                                               title  \\\n",
       "0        ***Venta semipiso centro, ideal hostel*****   \n",
       "1   Espectacular PH reciclado en Boedo sin expensas.   \n",
       "2  Depto.tipo casa de 2 ambientes en Venta en Pal...   \n",
       "3  COSTA RICA 5800 / PALERMO HOLLYWOOD / VENTA PH...   \n",
       "4  58 entre 1 y 2  Venta de departamento en ph.1 ...   \n",
       "\n",
       "                                         description property_type  \\\n",
       "0  DESCRIPCION DE LA PROPIEDAD: Departamento de 1...  Departamento   \n",
       "1   PH reciclado en Boedo a una cuadra de la plaz...            PH   \n",
       "2  2 ambienets amplio , excelente estado , patio ...            PH   \n",
       "3  HERMOSO PH EN PALERMO!!!2 AMBIENTES TOTALMENTE...            PH   \n",
       "4  58 entre 1 y 2  Venta de departamento en PH. P...            PH   \n",
       "\n",
       "  operation_type  \n",
       "0          Venta  \n",
       "1          Venta  \n",
       "2          Venta  \n",
       "3          Venta  \n",
       "4          Venta  "
      ]
     },
     "execution_count": 3,
     "metadata": {},
     "output_type": "execute_result"
    }
   ],
   "source": [
    "data.head()"
   ]
  },
  {
   "cell_type": "code",
   "execution_count": 4,
   "id": "western-stewart",
   "metadata": {},
   "outputs": [
    {
     "data": {
      "text/plain": [
       "Departamento       107326\n",
       "Casa                21521\n",
       "PH                  14298\n",
       "Lote                 1312\n",
       "Oficina               658\n",
       "Otro                  374\n",
       "Local comercial       325\n",
       "Casa de campo         322\n",
       "Depósito              265\n",
       "Cochera               259\n",
       "Name: property_type, dtype: int64"
      ]
     },
     "execution_count": 4,
     "metadata": {},
     "output_type": "execute_result"
    }
   ],
   "source": [
    "data['property_type'].value_counts()"
   ]
  },
  {
   "cell_type": "markdown",
   "id": "objective-carrier",
   "metadata": {},
   "source": [
    "Para los valores de lote, oficina, local comercial, casa de campo, deposito y cochera lo integrare a la categoria otro ya que son valores muy pequeños\n",
    "\n"
   ]
  },
  {
   "cell_type": "code",
   "execution_count": 5,
   "id": "continent-artist",
   "metadata": {},
   "outputs": [
    {
     "data": {
      "text/plain": [
       "(146660, 19)"
      ]
     },
     "execution_count": 5,
     "metadata": {},
     "output_type": "execute_result"
    }
   ],
   "source": [
    "data_filtro = data.copy()\n",
    "data_filtro.shape"
   ]
  },
  {
   "cell_type": "code",
   "execution_count": 6,
   "id": "incident-grace",
   "metadata": {},
   "outputs": [],
   "source": [
    "data_filtro['property_type'] =  data_filtro['property_type'].map({'Lote': 'Otro',\n",
    "                                                                'Oficina': 'Otro',\n",
    "                                                                'Local comercial': 'Otro',\n",
    "                                                                'Casa de campo': 'Otro',\n",
    "                                                                'Depósito':'Otro',\n",
    "                                                                'Cochera': 'Otro',\n",
    "                                                                'Otro': 'Otro',\n",
    "                                                                'PH':'PH',\n",
    "                                                                'Casa':'Casa',\n",
    "                                                                'Departamento':'Departamento'})"
   ]
  },
  {
   "cell_type": "code",
   "execution_count": 7,
   "id": "automotive-colombia",
   "metadata": {},
   "outputs": [
    {
     "data": {
      "text/plain": [
       "Departamento    107326\n",
       "Casa             21521\n",
       "PH               14298\n",
       "Otro              3515\n",
       "Name: property_type, dtype: int64"
      ]
     },
     "execution_count": 7,
     "metadata": {},
     "output_type": "execute_result"
    }
   ],
   "source": [
    "data_filtro['property_type'].value_counts()"
   ]
  },
  {
   "cell_type": "code",
   "execution_count": 8,
   "id": "dependent-flush",
   "metadata": {},
   "outputs": [
    {
     "name": "stderr",
     "output_type": "stream",
     "text": [
      "C:\\Users\\Usuario\\miniconda3\\envs\\datascience\\lib\\site-packages\\seaborn\\_decorators.py:36: FutureWarning: Pass the following variable as a keyword arg: x. From version 0.12, the only valid positional argument will be `data`, and passing other arguments without an explicit keyword will result in an error or misinterpretation.\n",
      "  warnings.warn(\n"
     ]
    },
    {
     "data": {
      "image/png": "[encoded data removed]",
      "text/plain": [
       "<Figure size 432x288 with 1 Axes>"
      ]
     },
     "metadata": {},
     "output_type": "display_data"
    }
   ],
   "source": [
    "sns.countplot(data_filtro.property_type)\n",
    "plt.title(\"Frecuencia de tipos de propiedad\")\n",
    "plt.xlabel(\"Tipo de propiedad\")\n",
    "plt.ylabel(\"Frecuencia\");\n",
    "plt.show()"
   ]
  },
  {
   "cell_type": "markdown",
   "id": "changed-english",
   "metadata": {},
   "source": [
    "Observamos claramente el desbalanceo que encontramos sobre el dataset, donde en la variable otro ni siquiera llega a aparecer la barra de frecuencia."
   ]
  },
  {
   "cell_type": "markdown",
   "id": "curious-allergy",
   "metadata": {},
   "source": [
    "### Deteccion y eliminacion de outliers"
   ]
  },
  {
   "cell_type": "markdown",
   "id": "rocky-nursing",
   "metadata": {},
   "source": [
    "Decidi realizar la deteccion y eliminacion de outliers ya que en el proyecto 1 vi que hay muchas variables que tienen datos que no son normales o comunes en comparación al resto, por lo tanto capaz estos datos hacen que las predicciones no sean tan acertadas como podrian ser. "
   ]
  },
  {
   "cell_type": "markdown",
   "id": "little-device",
   "metadata": {},
   "source": [
    "Para ello utilizare la regla de 3 sigmas, crearé una funcion que me determine el maximo y el minimo de la variable en cuestion. Tambien creare una funcion para realizar el filtrado de outliers en el cual recibe los parametros de min y max y automaticamente lo filtra al dataset pasado por parametros. Por ultimo, realice una funcion para observar como quedan los outliers a traves de un boxplot"
   ]
  },
  {
   "cell_type": "code",
   "execution_count": 9,
   "id": "healthy-cover",
   "metadata": {},
   "outputs": [],
   "source": [
    "def tresSigmas(info):\n",
    "    valor_medio = info.mean()\n",
    "    std = info.std()\n",
    "    minimo = valor_medio - 3*std\n",
    "    maximo = valor_medio + 3*std\n",
    "    return [minimo, maximo]"
   ]
  },
  {
   "cell_type": "code",
   "execution_count": 10,
   "id": "saving-madrid",
   "metadata": {},
   "outputs": [],
   "source": [
    "def grafico_boxplot(columna,titulo,label):\n",
    "    sns.boxplot(data=data_filtro, x=columna, palette=\"Set2\")\n",
    "    plt.suptitle(titulo)\n",
    "    plt.xlabel(label)\n",
    "    plt.show()\n"
   ]
  },
  {
   "cell_type": "markdown",
   "id": "czech-envelope",
   "metadata": {},
   "source": [
    "Copio el dataset en una nueva variable para poder manipularla y tambien seguir teniendo nuestro dataset original"
   ]
  },
  {
   "cell_type": "markdown",
   "id": "devoted-contributor",
   "metadata": {},
   "source": [
    "#### Latitud"
   ]
  },
  {
   "cell_type": "code",
   "execution_count": 11,
   "id": "induced-record",
   "metadata": {},
   "outputs": [],
   "source": [
    "minimo, maximo =tresSigmas(data_filtro.lat)"
   ]
  },
  {
   "cell_type": "markdown",
   "id": "resistant-language",
   "metadata": {},
   "source": [
    "Una vez que ya sabemos cual es el maximo y el minimo podemos filtrar por ellos y visualizar como queda nuestra variable sin los outliers"
   ]
  },
  {
   "cell_type": "code",
   "execution_count": 12,
   "id": "acoustic-truck",
   "metadata": {},
   "outputs": [],
   "source": [
    "data_filtro = data_filtro[data_filtro.lat < maximo]"
   ]
  },
  {
   "cell_type": "code",
   "execution_count": 13,
   "id": "architectural-refrigerator",
   "metadata": {},
   "outputs": [],
   "source": [
    "data_filtro = data_filtro[data_filtro.lat > minimo]"
   ]
  },
  {
   "cell_type": "code",
   "execution_count": 14,
   "id": "chubby-compensation",
   "metadata": {},
   "outputs": [
    {
     "data": {
      "image/png": "[encoded data removed]",
      "text/plain": [
       "<Figure size 432x288 with 1 Axes>"
      ]
     },
     "metadata": {},
     "output_type": "display_data"
    }
   ],
   "source": [
    "grafico_boxplot('lat','Boxplot de latitud','Latitud')"
   ]
  },
  {
   "cell_type": "markdown",
   "id": "cubic-scanner",
   "metadata": {},
   "source": [
    "#### Longitud"
   ]
  },
  {
   "cell_type": "code",
   "execution_count": 15,
   "id": "bizarre-racing",
   "metadata": {},
   "outputs": [],
   "source": [
    "minimo, maximo =tresSigmas(data_filtro.lon)\n",
    "data_filtro = data_filtro[data_filtro.lon < maximo]\n",
    "data_filtro = data_filtro[data_filtro.lon > minimo]"
   ]
  },
  {
   "cell_type": "code",
   "execution_count": 16,
   "id": "failing-fundamental",
   "metadata": {},
   "outputs": [
    {
     "data": {
      "image/png": "[encoded data removed]",
      "text/plain": [
       "<Figure size 432x288 with 1 Axes>"
      ]
     },
     "metadata": {},
     "output_type": "display_data"
    }
   ],
   "source": [
    "grafico_boxplot('lon','Boxplot de longitud','Longitud')"
   ]
  },
  {
   "cell_type": "markdown",
   "id": "wicked-princess",
   "metadata": {},
   "source": [
    "Vemos que tanto en la variable de longitud y latitud queda mucho bigote, creo que esto se debe a que los valores de estas variables tienen diferencias muy pequeñas entre si."
   ]
  },
  {
   "cell_type": "markdown",
   "id": "ethical-restriction",
   "metadata": {},
   "source": [
    "#### Rooms"
   ]
  },
  {
   "cell_type": "code",
   "execution_count": 17,
   "id": "exempt-cedar",
   "metadata": {},
   "outputs": [],
   "source": [
    "minimo, maximo =tresSigmas(data_filtro.rooms)\n",
    "data_filtro = data_filtro[data_filtro.rooms < maximo]\n",
    "data_filtro = data_filtro[data_filtro.rooms > minimo]"
   ]
  },
  {
   "cell_type": "code",
   "execution_count": 18,
   "id": "organizational-worthy",
   "metadata": {},
   "outputs": [
    {
     "data": {
      "image/png": "[encoded data removed]",
      "text/plain": [
       "<Figure size 432x288 with 1 Axes>"
      ]
     },
     "metadata": {},
     "output_type": "display_data"
    }
   ],
   "source": [
    "grafico_boxplot('rooms','Boxplot de habitaciones','Habitaciones')"
   ]
  },
  {
   "cell_type": "markdown",
   "id": "false-incentive",
   "metadata": {},
   "source": [
    "#### Bedrooms"
   ]
  },
  {
   "cell_type": "code",
   "execution_count": 19,
   "id": "loved-crazy",
   "metadata": {},
   "outputs": [],
   "source": [
    "minimo, maximo =tresSigmas(data_filtro.bedrooms)\n",
    "data_filtro = data_filtro[data_filtro.bedrooms < maximo]\n",
    "data_filtro = data_filtro[data_filtro.bedrooms > minimo]"
   ]
  },
  {
   "cell_type": "code",
   "execution_count": 20,
   "id": "foreign-toddler",
   "metadata": {},
   "outputs": [
    {
     "data": {
      "image/png": "[encoded data removed]",
      "text/plain": [
       "<Figure size 432x288 with 1 Axes>"
      ]
     },
     "metadata": {},
     "output_type": "display_data"
    }
   ],
   "source": [
    "grafico_boxplot('bedrooms','Boxplot de dormitorios','Dormitorios')"
   ]
  },
  {
   "cell_type": "markdown",
   "id": "incredible-distance",
   "metadata": {},
   "source": [
    "Ademas filtraré aquellos que tienen cantidad de dormitorios en 0, ya que se trataría de un error"
   ]
  },
  {
   "cell_type": "code",
   "execution_count": 21,
   "id": "fiscal-acrylic",
   "metadata": {},
   "outputs": [],
   "source": [
    "data_filtro = data_filtro[data_filtro.bedrooms > 0  ]"
   ]
  },
  {
   "cell_type": "code",
   "execution_count": 22,
   "id": "measured-grave",
   "metadata": {},
   "outputs": [
    {
     "data": {
      "image/png": "[encoded data removed]",
      "text/plain": [
       "<Figure size 432x288 with 1 Axes>"
      ]
     },
     "metadata": {},
     "output_type": "display_data"
    }
   ],
   "source": [
    "grafico_boxplot('bedrooms','Boxplot de dormitorios','Dormitorios')"
   ]
  },
  {
   "cell_type": "markdown",
   "id": "irish-engine",
   "metadata": {},
   "source": [
    "#### Bathrooms\n"
   ]
  },
  {
   "cell_type": "code",
   "execution_count": 23,
   "id": "therapeutic-spice",
   "metadata": {},
   "outputs": [],
   "source": [
    "minimo, maximo =tresSigmas(data_filtro.bathrooms)\n",
    "data_filtro = data_filtro[data_filtro.bathrooms < maximo]\n",
    "data_filtro = data_filtro[data_filtro.bathrooms > minimo]"
   ]
  },
  {
   "cell_type": "code",
   "execution_count": 24,
   "id": "beautiful-correlation",
   "metadata": {},
   "outputs": [
    {
     "data": {
      "image/png": "[encoded data removed]",
      "text/plain": [
       "<Figure size 432x288 with 1 Axes>"
      ]
     },
     "metadata": {},
     "output_type": "display_data"
    }
   ],
   "source": [
    "grafico_boxplot('bathrooms','Boxplot de baños','Baños')"
   ]
  },
  {
   "cell_type": "markdown",
   "id": "honest-positive",
   "metadata": {},
   "source": [
    "#### Superficie total y cubierta"
   ]
  },
  {
   "cell_type": "markdown",
   "id": "compressed-ethnic",
   "metadata": {},
   "source": [
    "Empiezo filtrando por aquellas que no cumplen con que la superficie total sea mayor o igual a la cubierta"
   ]
  },
  {
   "cell_type": "code",
   "execution_count": 25,
   "id": "average-volleyball",
   "metadata": {},
   "outputs": [
    {
     "data": {
      "text/html": [
       "<div>\n",
       "<style scoped>\n",
       "    .dataframe tbody tr th:only-of-type {\n",
       "        vertical-align: middle;\n",
       "    }\n",
       "\n",
       "    .dataframe tbody tr th {\n",
       "        vertical-align: top;\n",
       "    }\n",
       "\n",
       "    .dataframe thead th {\n",
       "        text-align: right;\n",
       "    }\n",
       "</style>\n",
       "<table border=\"1\" class=\"dataframe\">\n",
       "  <thead>\n",
       "    <tr style=\"text-align: right;\">\n",
       "      <th></th>\n",
       "      <th>start_date</th>\n",
       "      <th>end_date</th>\n",
       "      <th>created_on</th>\n",
       "      <th>lat</th>\n",
       "      <th>lon</th>\n",
       "      <th>l1</th>\n",
       "      <th>l2</th>\n",
       "      <th>l3</th>\n",
       "      <th>rooms</th>\n",
       "      <th>bedrooms</th>\n",
       "      <th>bathrooms</th>\n",
       "      <th>surface_total</th>\n",
       "      <th>surface_covered</th>\n",
       "      <th>price</th>\n",
       "      <th>currency</th>\n",
       "      <th>title</th>\n",
       "      <th>description</th>\n",
       "      <th>property_type</th>\n",
       "      <th>operation_type</th>\n",
       "    </tr>\n",
       "  </thead>\n",
       "  <tbody>\n",
       "    <tr>\n",
       "      <th>446</th>\n",
       "      <td>2019-03-04</td>\n",
       "      <td>2019-08-17</td>\n",
       "      <td>2019-03-04</td>\n",
       "      <td>-34.613369</td>\n",
       "      <td>-58.488637</td>\n",
       "      <td>Argentina</td>\n",
       "      <td>Capital Federal</td>\n",
       "      <td>Villa Santa Rita</td>\n",
       "      <td>5.0</td>\n",
       "      <td>4.0</td>\n",
       "      <td>3.0</td>\n",
       "      <td>230.0</td>\n",
       "      <td>244.0</td>\n",
       "      <td>490000.0</td>\n",
       "      <td>USD</td>\n",
       "      <td>VENTA CASA 5 AMBIENTES</td>\n",
       "      <td>Corredor Responsable: Mónica Silvia Martinuzzi...</td>\n",
       "      <td>Casa</td>\n",
       "      <td>Venta</td>\n",
       "    </tr>\n",
       "    <tr>\n",
       "      <th>476</th>\n",
       "      <td>2019-03-04</td>\n",
       "      <td>2019-08-17</td>\n",
       "      <td>2019-03-04</td>\n",
       "      <td>-34.779414</td>\n",
       "      <td>-58.391520</td>\n",
       "      <td>Argentina</td>\n",
       "      <td>Bs.As. G.B.A. Zona Sur</td>\n",
       "      <td>Lomas de Zamora</td>\n",
       "      <td>4.0</td>\n",
       "      <td>2.0</td>\n",
       "      <td>1.0</td>\n",
       "      <td>148.0</td>\n",
       "      <td>11098.0</td>\n",
       "      <td>129000.0</td>\n",
       "      <td>USD</td>\n",
       "      <td>Casa a refaccionar en bonita zona Temperley</td>\n",
       "      <td>Corredor Responsable: FRANCISCO D'ATRI - CPMCA...</td>\n",
       "      <td>Casa</td>\n",
       "      <td>Venta</td>\n",
       "    </tr>\n",
       "    <tr>\n",
       "      <th>602</th>\n",
       "      <td>2019-04-25</td>\n",
       "      <td>2019-08-17</td>\n",
       "      <td>2019-04-25</td>\n",
       "      <td>-34.657972</td>\n",
       "      <td>-58.670631</td>\n",
       "      <td>Argentina</td>\n",
       "      <td>Bs.As. G.B.A. Zona Oeste</td>\n",
       "      <td>Ituzaingó</td>\n",
       "      <td>1.0</td>\n",
       "      <td>1.0</td>\n",
       "      <td>1.0</td>\n",
       "      <td>32.0</td>\n",
       "      <td>33.0</td>\n",
       "      <td>65000.0</td>\n",
       "      <td>USD</td>\n",
       "      <td>OPORTUNIDAD Venta Monoambiente Ituzaingo Centro</td>\n",
       "      <td>Corredor Responsable: Hernan Perrone - CMCPDJM...</td>\n",
       "      <td>Departamento</td>\n",
       "      <td>Venta</td>\n",
       "    </tr>\n",
       "    <tr>\n",
       "      <th>783</th>\n",
       "      <td>2019-04-25</td>\n",
       "      <td>2019-08-17</td>\n",
       "      <td>2019-04-25</td>\n",
       "      <td>-34.334050</td>\n",
       "      <td>-58.796940</td>\n",
       "      <td>Argentina</td>\n",
       "      <td>Bs.As. G.B.A. Zona Norte</td>\n",
       "      <td>Escobar</td>\n",
       "      <td>3.0</td>\n",
       "      <td>2.0</td>\n",
       "      <td>1.0</td>\n",
       "      <td>33.0</td>\n",
       "      <td>187.0</td>\n",
       "      <td>115000.0</td>\n",
       "      <td>USD</td>\n",
       "      <td>Oportunidad! Casa de 3 Amb en Belen de Escobar</td>\n",
       "      <td>Corredor Responsable: MAURO MARVISI - CSI 5574...</td>\n",
       "      <td>Casa</td>\n",
       "      <td>Venta</td>\n",
       "    </tr>\n",
       "    <tr>\n",
       "      <th>785</th>\n",
       "      <td>2019-04-25</td>\n",
       "      <td>2019-08-17</td>\n",
       "      <td>2019-04-25</td>\n",
       "      <td>-34.681012</td>\n",
       "      <td>-58.375710</td>\n",
       "      <td>Argentina</td>\n",
       "      <td>Bs.As. G.B.A. Zona Sur</td>\n",
       "      <td>Avellaneda</td>\n",
       "      <td>3.0</td>\n",
       "      <td>2.0</td>\n",
       "      <td>2.0</td>\n",
       "      <td>159.0</td>\n",
       "      <td>179.0</td>\n",
       "      <td>197000.0</td>\n",
       "      <td>USD</td>\n",
       "      <td>VENTA CASA AL FRENTE 3 AMB C/GARAGE, PATIO, TE...</td>\n",
       "      <td>Corredor Responsable: ANDREA VAZQUEZ - CSI 625...</td>\n",
       "      <td>Casa</td>\n",
       "      <td>Venta</td>\n",
       "    </tr>\n",
       "    <tr>\n",
       "      <th>...</th>\n",
       "      <td>...</td>\n",
       "      <td>...</td>\n",
       "      <td>...</td>\n",
       "      <td>...</td>\n",
       "      <td>...</td>\n",
       "      <td>...</td>\n",
       "      <td>...</td>\n",
       "      <td>...</td>\n",
       "      <td>...</td>\n",
       "      <td>...</td>\n",
       "      <td>...</td>\n",
       "      <td>...</td>\n",
       "      <td>...</td>\n",
       "      <td>...</td>\n",
       "      <td>...</td>\n",
       "      <td>...</td>\n",
       "      <td>...</td>\n",
       "      <td>...</td>\n",
       "      <td>...</td>\n",
       "    </tr>\n",
       "    <tr>\n",
       "      <th>145293</th>\n",
       "      <td>2020-01-15</td>\n",
       "      <td>2020-02-07</td>\n",
       "      <td>2020-01-15</td>\n",
       "      <td>-34.763600</td>\n",
       "      <td>-58.405368</td>\n",
       "      <td>Argentina</td>\n",
       "      <td>Bs.As. G.B.A. Zona Sur</td>\n",
       "      <td>Lomas de Zamora</td>\n",
       "      <td>3.0</td>\n",
       "      <td>2.0</td>\n",
       "      <td>2.0</td>\n",
       "      <td>72.0</td>\n",
       "      <td>73.0</td>\n",
       "      <td>185000.0</td>\n",
       "      <td>USD</td>\n",
       "      <td>DEPARTAMENTO EN LAS LOMITAS, CON SUM, GYM Y SAUNA</td>\n",
       "      <td>Corredor Responsable: FRANCISCO D'ATRI - CPMCA...</td>\n",
       "      <td>Departamento</td>\n",
       "      <td>Venta</td>\n",
       "    </tr>\n",
       "    <tr>\n",
       "      <th>145347</th>\n",
       "      <td>2020-01-15</td>\n",
       "      <td>9999-12-31</td>\n",
       "      <td>2020-01-15</td>\n",
       "      <td>-34.648990</td>\n",
       "      <td>-58.603563</td>\n",
       "      <td>Argentina</td>\n",
       "      <td>Bs.As. G.B.A. Zona Oeste</td>\n",
       "      <td>Morón</td>\n",
       "      <td>5.0</td>\n",
       "      <td>3.0</td>\n",
       "      <td>1.0</td>\n",
       "      <td>134.0</td>\n",
       "      <td>160.0</td>\n",
       "      <td>210000.0</td>\n",
       "      <td>USD</td>\n",
       "      <td>Casa en venta HAEDO SUR 5 ambientes GARAGE</td>\n",
       "      <td>Corredor Responsable: GRACIELA MENAZZI - CMCPD...</td>\n",
       "      <td>Casa</td>\n",
       "      <td>Venta</td>\n",
       "    </tr>\n",
       "    <tr>\n",
       "      <th>145376</th>\n",
       "      <td>2020-01-15</td>\n",
       "      <td>2020-02-05</td>\n",
       "      <td>2020-01-15</td>\n",
       "      <td>-34.650700</td>\n",
       "      <td>-58.385906</td>\n",
       "      <td>Argentina</td>\n",
       "      <td>Capital Federal</td>\n",
       "      <td>Barracas</td>\n",
       "      <td>6.0</td>\n",
       "      <td>4.0</td>\n",
       "      <td>2.0</td>\n",
       "      <td>197.0</td>\n",
       "      <td>290.0</td>\n",
       "      <td>329900.0</td>\n",
       "      <td>USD</td>\n",
       "      <td>CASA 6 AMBIENTES LOTE PROPIO BARRACAS</td>\n",
       "      <td>Corredor Responsable: GUILLERMO FRIMET - CUCIC...</td>\n",
       "      <td>Casa</td>\n",
       "      <td>Venta</td>\n",
       "    </tr>\n",
       "    <tr>\n",
       "      <th>145383</th>\n",
       "      <td>2020-01-15</td>\n",
       "      <td>2020-02-05</td>\n",
       "      <td>2020-01-15</td>\n",
       "      <td>-34.647387</td>\n",
       "      <td>-58.388259</td>\n",
       "      <td>Argentina</td>\n",
       "      <td>Capital Federal</td>\n",
       "      <td>Barracas</td>\n",
       "      <td>7.0</td>\n",
       "      <td>5.0</td>\n",
       "      <td>1.0</td>\n",
       "      <td>124.0</td>\n",
       "      <td>170.0</td>\n",
       "      <td>99000.0</td>\n",
       "      <td>USD</td>\n",
       "      <td>Excelente OP/ Casa lote propio a refaccionar !!</td>\n",
       "      <td>Corredor Responsable: GUILLERMO FRIMET - CUCIC...</td>\n",
       "      <td>Casa</td>\n",
       "      <td>Venta</td>\n",
       "    </tr>\n",
       "    <tr>\n",
       "      <th>145392</th>\n",
       "      <td>2020-01-20</td>\n",
       "      <td>9999-12-31</td>\n",
       "      <td>2020-01-20</td>\n",
       "      <td>-34.416397</td>\n",
       "      <td>-58.748933</td>\n",
       "      <td>Argentina</td>\n",
       "      <td>Bs.As. G.B.A. Zona Norte</td>\n",
       "      <td>Escobar</td>\n",
       "      <td>2.0</td>\n",
       "      <td>1.0</td>\n",
       "      <td>1.0</td>\n",
       "      <td>35.0</td>\n",
       "      <td>45.0</td>\n",
       "      <td>39900.0</td>\n",
       "      <td>USD</td>\n",
       "      <td>DEPARTAMENTO 2 AMB C/ COCH. CONDOMINIO - GARIN</td>\n",
       "      <td>Amplio departamento en Garin a pocas cuadras d...</td>\n",
       "      <td>PH</td>\n",
       "      <td>Venta</td>\n",
       "    </tr>\n",
       "  </tbody>\n",
       "</table>\n",
       "<p>1237 rows × 19 columns</p>\n",
       "</div>"
      ],
      "text/plain": [
       "        start_date    end_date  created_on        lat        lon         l1  \\\n",
       "446     2019-03-04  2019-08-17  2019-03-04 -34.613369 -58.488637  Argentina   \n",
       "476     2019-03-04  2019-08-17  2019-03-04 -34.779414 -58.391520  Argentina   \n",
       "602     2019-04-25  2019-08-17  2019-04-25 -34.657972 -58.670631  Argentina   \n",
       "783     2019-04-25  2019-08-17  2019-04-25 -34.334050 -58.796940  Argentina   \n",
       "785     2019-04-25  2019-08-17  2019-04-25 -34.681012 -58.375710  Argentina   \n",
       "...            ...         ...         ...        ...        ...        ...   \n",
       "145293  2020-01-15  2020-02-07  2020-01-15 -34.763600 -58.405368  Argentina   \n",
       "145347  2020-01-15  9999-12-31  2020-01-15 -34.648990 -58.603563  Argentina   \n",
       "145376  2020-01-15  2020-02-05  2020-01-15 -34.650700 -58.385906  Argentina   \n",
       "145383  2020-01-15  2020-02-05  2020-01-15 -34.647387 -58.388259  Argentina   \n",
       "145392  2020-01-20  9999-12-31  2020-01-20 -34.416397 -58.748933  Argentina   \n",
       "\n",
       "                              l2                l3  rooms  bedrooms  \\\n",
       "446              Capital Federal  Villa Santa Rita    5.0       4.0   \n",
       "476       Bs.As. G.B.A. Zona Sur   Lomas de Zamora    4.0       2.0   \n",
       "602     Bs.As. G.B.A. Zona Oeste         Ituzaingó    1.0       1.0   \n",
       "783     Bs.As. G.B.A. Zona Norte           Escobar    3.0       2.0   \n",
       "785       Bs.As. G.B.A. Zona Sur        Avellaneda    3.0       2.0   \n",
       "...                          ...               ...    ...       ...   \n",
       "145293    Bs.As. G.B.A. Zona Sur   Lomas de Zamora    3.0       2.0   \n",
       "145347  Bs.As. G.B.A. Zona Oeste             Morón    5.0       3.0   \n",
       "145376           Capital Federal          Barracas    6.0       4.0   \n",
       "145383           Capital Federal          Barracas    7.0       5.0   \n",
       "145392  Bs.As. G.B.A. Zona Norte           Escobar    2.0       1.0   \n",
       "\n",
       "        bathrooms  surface_total  surface_covered     price currency  \\\n",
       "446           3.0          230.0            244.0  490000.0      USD   \n",
       "476           1.0          148.0          11098.0  129000.0      USD   \n",
       "602           1.0           32.0             33.0   65000.0      USD   \n",
       "783           1.0           33.0            187.0  115000.0      USD   \n",
       "785           2.0          159.0            179.0  197000.0      USD   \n",
       "...           ...            ...              ...       ...      ...   \n",
       "145293        2.0           72.0             73.0  185000.0      USD   \n",
       "145347        1.0          134.0            160.0  210000.0      USD   \n",
       "145376        2.0          197.0            290.0  329900.0      USD   \n",
       "145383        1.0          124.0            170.0   99000.0      USD   \n",
       "145392        1.0           35.0             45.0   39900.0      USD   \n",
       "\n",
       "                                                    title  \\\n",
       "446                                VENTA CASA 5 AMBIENTES   \n",
       "476           Casa a refaccionar en bonita zona Temperley   \n",
       "602       OPORTUNIDAD Venta Monoambiente Ituzaingo Centro   \n",
       "783        Oportunidad! Casa de 3 Amb en Belen de Escobar   \n",
       "785     VENTA CASA AL FRENTE 3 AMB C/GARAGE, PATIO, TE...   \n",
       "...                                                   ...   \n",
       "145293  DEPARTAMENTO EN LAS LOMITAS, CON SUM, GYM Y SAUNA   \n",
       "145347         Casa en venta HAEDO SUR 5 ambientes GARAGE   \n",
       "145376              CASA 6 AMBIENTES LOTE PROPIO BARRACAS   \n",
       "145383    Excelente OP/ Casa lote propio a refaccionar !!   \n",
       "145392     DEPARTAMENTO 2 AMB C/ COCH. CONDOMINIO - GARIN   \n",
       "\n",
       "                                              description property_type  \\\n",
       "446     Corredor Responsable: Mónica Silvia Martinuzzi...          Casa   \n",
       "476     Corredor Responsable: FRANCISCO D'ATRI - CPMCA...          Casa   \n",
       "602     Corredor Responsable: Hernan Perrone - CMCPDJM...  Departamento   \n",
       "783     Corredor Responsable: MAURO MARVISI - CSI 5574...          Casa   \n",
       "785     Corredor Responsable: ANDREA VAZQUEZ - CSI 625...          Casa   \n",
       "...                                                   ...           ...   \n",
       "145293  Corredor Responsable: FRANCISCO D'ATRI - CPMCA...  Departamento   \n",
       "145347  Corredor Responsable: GRACIELA MENAZZI - CMCPD...          Casa   \n",
       "145376  Corredor Responsable: GUILLERMO FRIMET - CUCIC...          Casa   \n",
       "145383  Corredor Responsable: GUILLERMO FRIMET - CUCIC...          Casa   \n",
       "145392  Amplio departamento en Garin a pocas cuadras d...            PH   \n",
       "\n",
       "       operation_type  \n",
       "446             Venta  \n",
       "476             Venta  \n",
       "602             Venta  \n",
       "783             Venta  \n",
       "785             Venta  \n",
       "...               ...  \n",
       "145293          Venta  \n",
       "145347          Venta  \n",
       "145376          Venta  \n",
       "145383          Venta  \n",
       "145392          Venta  \n",
       "\n",
       "[1237 rows x 19 columns]"
      ]
     },
     "execution_count": 25,
     "metadata": {},
     "output_type": "execute_result"
    }
   ],
   "source": [
    "data_filtro[data_filtro.surface_total < data_filtro.surface_covered]"
   ]
  },
  {
   "cell_type": "markdown",
   "id": "pediatric-movie",
   "metadata": {},
   "source": [
    "Estos valores son incorrectos, la superficie cubierta no puede ser mayor a la total, por lo tanto eliminare estos inmubles."
   ]
  },
  {
   "cell_type": "code",
   "execution_count": 26,
   "id": "iraqi-clark",
   "metadata": {},
   "outputs": [],
   "source": [
    "data_filtro= data_filtro[data_filtro.surface_total > data_filtro.surface_covered]"
   ]
  },
  {
   "cell_type": "markdown",
   "id": "present-separate",
   "metadata": {},
   "source": [
    "##### Superficie total:"
   ]
  },
  {
   "cell_type": "code",
   "execution_count": 27,
   "id": "disturbed-sullivan",
   "metadata": {},
   "outputs": [],
   "source": [
    "minimo, maximo =tresSigmas(data_filtro.surface_total)\n",
    "data_filtro = data_filtro[data_filtro.surface_total < maximo]\n",
    "data_filtro = data_filtro[data_filtro.surface_total > minimo]"
   ]
  },
  {
   "cell_type": "code",
   "execution_count": 28,
   "id": "existing-giving",
   "metadata": {},
   "outputs": [
    {
     "data": {
      "image/png": "[encoded data removed]",
      "text/plain": [
       "<Figure size 432x288 with 1 Axes>"
      ]
     },
     "metadata": {},
     "output_type": "display_data"
    }
   ],
   "source": [
    "grafico_boxplot('surface_total','Boxplot de superficie total','Superficie total')"
   ]
  },
  {
   "cell_type": "markdown",
   "id": "freelance-twins",
   "metadata": {},
   "source": [
    "##### Superficie cubierta:"
   ]
  },
  {
   "cell_type": "code",
   "execution_count": 29,
   "id": "comparative-tradition",
   "metadata": {},
   "outputs": [],
   "source": [
    "minimo, maximo =tresSigmas(data_filtro.surface_covered)\n",
    "data_filtro = data_filtro[data_filtro.surface_covered < maximo]\n",
    "data_filtro = data_filtro[data_filtro.surface_covered > minimo]"
   ]
  },
  {
   "cell_type": "code",
   "execution_count": 30,
   "id": "clear-lithuania",
   "metadata": {},
   "outputs": [],
   "source": [
    "data_filtro =data_filtro[data_filtro.surface_covered < 300]"
   ]
  },
  {
   "cell_type": "code",
   "execution_count": 31,
   "id": "established-archive",
   "metadata": {},
   "outputs": [
    {
     "data": {
      "image/png": "[encoded data removed]",
      "text/plain": [
       "<Figure size 432x288 with 1 Axes>"
      ]
     },
     "metadata": {},
     "output_type": "display_data"
    }
   ],
   "source": [
    "grafico_boxplot('surface_covered','Boxplot de superficie cubierta','Superficie cubierta')"
   ]
  },
  {
   "cell_type": "markdown",
   "id": "cleared-celebration",
   "metadata": {},
   "source": [
    "#### Precio"
   ]
  },
  {
   "cell_type": "code",
   "execution_count": 32,
   "id": "statewide-battle",
   "metadata": {},
   "outputs": [
    {
     "name": "stderr",
     "output_type": "stream",
     "text": [
      "C:\\Users\\Usuario\\miniconda3\\envs\\datascience\\lib\\site-packages\\seaborn\\distributions.py:2557: FutureWarning: `distplot` is a deprecated function and will be removed in a future version. Please adapt your code to use either `displot` (a figure-level function with similar flexibility) or `histplot` (an axes-level function for histograms).\n",
      "  warnings.warn(msg, FutureWarning)\n"
     ]
    },
    {
     "data": {
      "text/plain": [
       "<AxesSubplot:xlabel='price', ylabel='Density'>"
      ]
     },
     "execution_count": 32,
     "metadata": {},
     "output_type": "execute_result"
    },
    {
     "data": {
      "image/png": "[encoded data removed]",
      "text/plain": [
       "<Figure size 432x288 with 1 Axes>"
      ]
     },
     "metadata": {},
     "output_type": "display_data"
    }
   ],
   "source": [
    "sns.distplot(data_filtro.price)"
   ]
  },
  {
   "cell_type": "markdown",
   "id": "sufficient-version",
   "metadata": {},
   "source": [
    "Con el grafico anterior observamos que hay valores muy variados del precio"
   ]
  },
  {
   "cell_type": "code",
   "execution_count": 33,
   "id": "contemporary-drove",
   "metadata": {},
   "outputs": [],
   "source": [
    "minimo, maximo =tresSigmas(data_filtro.price)\n",
    "data_filtro = data_filtro[data_filtro.price < maximo]\n",
    "data_filtro = data_filtro[data_filtro.price > minimo]"
   ]
  },
  {
   "cell_type": "code",
   "execution_count": 34,
   "id": "infectious-hunger",
   "metadata": {},
   "outputs": [
    {
     "data": {
      "image/png": "[encoded data removed]",
      "text/plain": [
       "<Figure size 432x288 with 1 Axes>"
      ]
     },
     "metadata": {},
     "output_type": "display_data"
    }
   ],
   "source": [
    "grafico_boxplot('price','Boxplot de precio','Precio')"
   ]
  },
  {
   "cell_type": "markdown",
   "id": "hired-egyptian",
   "metadata": {},
   "source": [
    "### Encoding"
   ]
  },
  {
   "cell_type": "markdown",
   "id": "loose-contrast",
   "metadata": {},
   "source": [
    "Creo que es necesario realizar encoding ya que hay datos categoricos que son importantes y si no realizamos encoding no podremos utilizarlo en nuestro modelo, perdiendo información valiosa. Analizaré a continuación que variables categoricas valen la pena realizar enconding y cuales no. "
   ]
  },
  {
   "cell_type": "markdown",
   "id": "promotional-identity",
   "metadata": {},
   "source": [
    "En el caso de la variable categorica tipo de propiedad, al ser nuestro target, no la modificare."
   ]
  },
  {
   "cell_type": "markdown",
   "id": "interested-interval",
   "metadata": {},
   "source": [
    "Otras variables categoricas que tenemos es \"operation_type\", \"currency\", \"title\" y \"description\", vamos a ver que valores toma cada uno:"
   ]
  },
  {
   "cell_type": "code",
   "execution_count": 36,
   "id": "accompanied-helping",
   "metadata": {},
   "outputs": [
    {
     "data": {
      "text/plain": [
       "Venta    146660\n",
       "Name: operation_type, dtype: int64"
      ]
     },
     "execution_count": 36,
     "metadata": {},
     "output_type": "execute_result"
    }
   ],
   "source": [
    "data['operation_type'].value_counts()"
   ]
  },
  {
   "cell_type": "code",
   "execution_count": 37,
   "id": "chubby-drive",
   "metadata": {},
   "outputs": [
    {
     "data": {
      "text/plain": [
       "USD    146660\n",
       "Name: currency, dtype: int64"
      ]
     },
     "execution_count": 37,
     "metadata": {},
     "output_type": "execute_result"
    }
   ],
   "source": [
    "data['currency'].value_counts()"
   ]
  },
  {
   "cell_type": "markdown",
   "id": "higher-taylor",
   "metadata": {},
   "source": [
    "Como vemos que \"operation_type\" toma siempre valor \"Venta\" y \"currency\" toma siempre el valor \"USD\" podemos eliminar estas dos columnas del data set ya que no nos aporta ninguna información"
   ]
  },
  {
   "cell_type": "code",
   "execution_count": 38,
   "id": "signal-confidentiality",
   "metadata": {},
   "outputs": [
    {
     "data": {
      "text/html": [
       "<div>\n",
       "<style scoped>\n",
       "    .dataframe tbody tr th:only-of-type {\n",
       "        vertical-align: middle;\n",
       "    }\n",
       "\n",
       "    .dataframe tbody tr th {\n",
       "        vertical-align: top;\n",
       "    }\n",
       "\n",
       "    .dataframe thead th {\n",
       "        text-align: right;\n",
       "    }\n",
       "</style>\n",
       "<table border=\"1\" class=\"dataframe\">\n",
       "  <thead>\n",
       "    <tr style=\"text-align: right;\">\n",
       "      <th></th>\n",
       "      <th>start_date</th>\n",
       "      <th>end_date</th>\n",
       "      <th>created_on</th>\n",
       "      <th>lat</th>\n",
       "      <th>lon</th>\n",
       "      <th>l1</th>\n",
       "      <th>l2</th>\n",
       "      <th>l3</th>\n",
       "      <th>rooms</th>\n",
       "      <th>bedrooms</th>\n",
       "      <th>bathrooms</th>\n",
       "      <th>surface_total</th>\n",
       "      <th>surface_covered</th>\n",
       "      <th>price</th>\n",
       "      <th>title</th>\n",
       "      <th>description</th>\n",
       "      <th>property_type</th>\n",
       "    </tr>\n",
       "  </thead>\n",
       "  <tbody>\n",
       "    <tr>\n",
       "      <th>1</th>\n",
       "      <td>2019-10-17</td>\n",
       "      <td>2019-11-21</td>\n",
       "      <td>2019-10-17</td>\n",
       "      <td>-34.624056</td>\n",
       "      <td>-58.412110</td>\n",
       "      <td>Argentina</td>\n",
       "      <td>Capital Federal</td>\n",
       "      <td>Boedo</td>\n",
       "      <td>2.0</td>\n",
       "      <td>1.0</td>\n",
       "      <td>2.0</td>\n",
       "      <td>70.0</td>\n",
       "      <td>58.0</td>\n",
       "      <td>159000.0</td>\n",
       "      <td>Espectacular PH reciclado en Boedo sin expensas.</td>\n",
       "      <td>PH reciclado en Boedo a una cuadra de la plaz...</td>\n",
       "      <td>PH</td>\n",
       "    </tr>\n",
       "    <tr>\n",
       "      <th>3</th>\n",
       "      <td>2019-10-17</td>\n",
       "      <td>2019-12-23</td>\n",
       "      <td>2019-10-17</td>\n",
       "      <td>-34.581294</td>\n",
       "      <td>-58.436754</td>\n",
       "      <td>Argentina</td>\n",
       "      <td>Capital Federal</td>\n",
       "      <td>Palermo</td>\n",
       "      <td>2.0</td>\n",
       "      <td>1.0</td>\n",
       "      <td>1.0</td>\n",
       "      <td>85.0</td>\n",
       "      <td>50.0</td>\n",
       "      <td>295000.0</td>\n",
       "      <td>COSTA RICA 5800 / PALERMO HOLLYWOOD / VENTA PH...</td>\n",
       "      <td>HERMOSO PH EN PALERMO!!!2 AMBIENTES TOTALMENTE...</td>\n",
       "      <td>PH</td>\n",
       "    </tr>\n",
       "    <tr>\n",
       "      <th>8</th>\n",
       "      <td>2019-10-17</td>\n",
       "      <td>2019-12-23</td>\n",
       "      <td>2019-10-17</td>\n",
       "      <td>-34.639598</td>\n",
       "      <td>-58.419612</td>\n",
       "      <td>Argentina</td>\n",
       "      <td>Capital Federal</td>\n",
       "      <td>Parque Patricios</td>\n",
       "      <td>1.0</td>\n",
       "      <td>1.0</td>\n",
       "      <td>1.0</td>\n",
       "      <td>45.0</td>\n",
       "      <td>37.0</td>\n",
       "      <td>89000.0</td>\n",
       "      <td>PH SIN EXPENSAS, AMPLIO MONOAMBIENTE DIVISIBLE...</td>\n",
       "      <td>VENTA DE PH, EN EXCELENTE ESTADO, EN PARQUE PA...</td>\n",
       "      <td>PH</td>\n",
       "    </tr>\n",
       "    <tr>\n",
       "      <th>9</th>\n",
       "      <td>2019-10-17</td>\n",
       "      <td>2019-12-23</td>\n",
       "      <td>2019-10-17</td>\n",
       "      <td>-34.639598</td>\n",
       "      <td>-58.419612</td>\n",
       "      <td>Argentina</td>\n",
       "      <td>Capital Federal</td>\n",
       "      <td>Parque Patricios</td>\n",
       "      <td>1.0</td>\n",
       "      <td>1.0</td>\n",
       "      <td>1.0</td>\n",
       "      <td>45.0</td>\n",
       "      <td>37.0</td>\n",
       "      <td>89000.0</td>\n",
       "      <td>PH SIN EXPENSAS, AMPLIO MONOAMBIENTE DIVISIBLE...</td>\n",
       "      <td>VENTA DE PH, EN EXCELENTE ESTADO, EN PARQUE PA...</td>\n",
       "      <td>PH</td>\n",
       "    </tr>\n",
       "    <tr>\n",
       "      <th>10</th>\n",
       "      <td>2019-10-17</td>\n",
       "      <td>2019-12-07</td>\n",
       "      <td>2019-10-17</td>\n",
       "      <td>-34.586225</td>\n",
       "      <td>-58.496220</td>\n",
       "      <td>Argentina</td>\n",
       "      <td>Capital Federal</td>\n",
       "      <td>Villa Pueyrredón</td>\n",
       "      <td>2.0</td>\n",
       "      <td>1.0</td>\n",
       "      <td>2.0</td>\n",
       "      <td>66.0</td>\n",
       "      <td>49.0</td>\n",
       "      <td>170000.0</td>\n",
       "      <td>Villa Pueyrredón PH 2 ambientes con 2 terrazas...</td>\n",
       "      <td>PH CON TERRAZAS PROPIAS EN DUPLEX MUY LUMINOSO...</td>\n",
       "      <td>PH</td>\n",
       "    </tr>\n",
       "    <tr>\n",
       "      <th>...</th>\n",
       "      <td>...</td>\n",
       "      <td>...</td>\n",
       "      <td>...</td>\n",
       "      <td>...</td>\n",
       "      <td>...</td>\n",
       "      <td>...</td>\n",
       "      <td>...</td>\n",
       "      <td>...</td>\n",
       "      <td>...</td>\n",
       "      <td>...</td>\n",
       "      <td>...</td>\n",
       "      <td>...</td>\n",
       "      <td>...</td>\n",
       "      <td>...</td>\n",
       "      <td>...</td>\n",
       "      <td>...</td>\n",
       "      <td>...</td>\n",
       "    </tr>\n",
       "    <tr>\n",
       "      <th>146644</th>\n",
       "      <td>2019-07-31</td>\n",
       "      <td>2019-08-14</td>\n",
       "      <td>2019-07-31</td>\n",
       "      <td>-34.445077</td>\n",
       "      <td>-58.621163</td>\n",
       "      <td>Argentina</td>\n",
       "      <td>Bs.As. G.B.A. Zona Norte</td>\n",
       "      <td>Tigre</td>\n",
       "      <td>3.0</td>\n",
       "      <td>2.0</td>\n",
       "      <td>2.0</td>\n",
       "      <td>97.0</td>\n",
       "      <td>80.0</td>\n",
       "      <td>260000.0</td>\n",
       "      <td>Departamento en venta en Santa Barbara; Terrazas</td>\n",
       "      <td>OPORTUNIDAD! Departamento en venta en el Barri...</td>\n",
       "      <td>Departamento</td>\n",
       "    </tr>\n",
       "    <tr>\n",
       "      <th>146645</th>\n",
       "      <td>2019-07-31</td>\n",
       "      <td>2019-08-14</td>\n",
       "      <td>2019-07-31</td>\n",
       "      <td>-34.446847</td>\n",
       "      <td>-58.632600</td>\n",
       "      <td>Argentina</td>\n",
       "      <td>Bs.As. G.B.A. Zona Norte</td>\n",
       "      <td>Tigre</td>\n",
       "      <td>3.0</td>\n",
       "      <td>2.0</td>\n",
       "      <td>2.0</td>\n",
       "      <td>90.0</td>\n",
       "      <td>80.0</td>\n",
       "      <td>250000.0</td>\n",
       "      <td>DEPARTAMENTO EN VENTA EN SANTA BARBARA</td>\n",
       "      <td>Departamento en venta en Complejo Terrazas del...</td>\n",
       "      <td>Departamento</td>\n",
       "    </tr>\n",
       "    <tr>\n",
       "      <th>146646</th>\n",
       "      <td>2019-07-31</td>\n",
       "      <td>2019-09-04</td>\n",
       "      <td>2019-07-31</td>\n",
       "      <td>-34.444630</td>\n",
       "      <td>-58.620901</td>\n",
       "      <td>Argentina</td>\n",
       "      <td>Bs.As. G.B.A. Zona Norte</td>\n",
       "      <td>Tigre</td>\n",
       "      <td>3.0</td>\n",
       "      <td>2.0</td>\n",
       "      <td>2.0</td>\n",
       "      <td>96.0</td>\n",
       "      <td>83.0</td>\n",
       "      <td>280000.0</td>\n",
       "      <td>VENTA departamento en Terrazas de Santa Bárbara.</td>\n",
       "      <td>Venta de departamento de 2 dormitorios en el c...</td>\n",
       "      <td>Departamento</td>\n",
       "    </tr>\n",
       "    <tr>\n",
       "      <th>146654</th>\n",
       "      <td>2019-07-31</td>\n",
       "      <td>2019-11-02</td>\n",
       "      <td>2019-07-31</td>\n",
       "      <td>-34.602389</td>\n",
       "      <td>-58.591058</td>\n",
       "      <td>Argentina</td>\n",
       "      <td>Bs.As. G.B.A. Zona Oeste</td>\n",
       "      <td>Tres de Febrero</td>\n",
       "      <td>3.0</td>\n",
       "      <td>2.0</td>\n",
       "      <td>2.0</td>\n",
       "      <td>161.0</td>\n",
       "      <td>80.0</td>\n",
       "      <td>200000.0</td>\n",
       "      <td>Los Geranio al 6200 Venta Depto cochera terraz...</td>\n",
       "      <td>Único departamento Amplio balcón terraza 76 m2...</td>\n",
       "      <td>Departamento</td>\n",
       "    </tr>\n",
       "    <tr>\n",
       "      <th>146655</th>\n",
       "      <td>2019-07-31</td>\n",
       "      <td>2019-08-13</td>\n",
       "      <td>2019-07-31</td>\n",
       "      <td>-34.816348</td>\n",
       "      <td>-58.181963</td>\n",
       "      <td>Argentina</td>\n",
       "      <td>Bs.As. G.B.A. Zona Sur</td>\n",
       "      <td>Berazategui</td>\n",
       "      <td>2.0</td>\n",
       "      <td>1.0</td>\n",
       "      <td>1.0</td>\n",
       "      <td>54.0</td>\n",
       "      <td>48.0</td>\n",
       "      <td>165000.0</td>\n",
       "      <td>Departamento en Venta en Barrio Privado Barran...</td>\n",
       "      <td>Departamento de 2 ambientesCocina con alacena ...</td>\n",
       "      <td>Departamento</td>\n",
       "    </tr>\n",
       "  </tbody>\n",
       "</table>\n",
       "<p>74210 rows × 17 columns</p>\n",
       "</div>"
      ],
      "text/plain": [
       "        start_date    end_date  created_on        lat        lon         l1  \\\n",
       "1       2019-10-17  2019-11-21  2019-10-17 -34.624056 -58.412110  Argentina   \n",
       "3       2019-10-17  2019-12-23  2019-10-17 -34.581294 -58.436754  Argentina   \n",
       "8       2019-10-17  2019-12-23  2019-10-17 -34.639598 -58.419612  Argentina   \n",
       "9       2019-10-17  2019-12-23  2019-10-17 -34.639598 -58.419612  Argentina   \n",
       "10      2019-10-17  2019-12-07  2019-10-17 -34.586225 -58.496220  Argentina   \n",
       "...            ...         ...         ...        ...        ...        ...   \n",
       "146644  2019-07-31  2019-08-14  2019-07-31 -34.445077 -58.621163  Argentina   \n",
       "146645  2019-07-31  2019-08-14  2019-07-31 -34.446847 -58.632600  Argentina   \n",
       "146646  2019-07-31  2019-09-04  2019-07-31 -34.444630 -58.620901  Argentina   \n",
       "146654  2019-07-31  2019-11-02  2019-07-31 -34.602389 -58.591058  Argentina   \n",
       "146655  2019-07-31  2019-08-13  2019-07-31 -34.816348 -58.181963  Argentina   \n",
       "\n",
       "                              l2                l3  rooms  bedrooms  \\\n",
       "1                Capital Federal             Boedo    2.0       1.0   \n",
       "3                Capital Federal           Palermo    2.0       1.0   \n",
       "8                Capital Federal  Parque Patricios    1.0       1.0   \n",
       "9                Capital Federal  Parque Patricios    1.0       1.0   \n",
       "10               Capital Federal  Villa Pueyrredón    2.0       1.0   \n",
       "...                          ...               ...    ...       ...   \n",
       "146644  Bs.As. G.B.A. Zona Norte             Tigre    3.0       2.0   \n",
       "146645  Bs.As. G.B.A. Zona Norte             Tigre    3.0       2.0   \n",
       "146646  Bs.As. G.B.A. Zona Norte             Tigre    3.0       2.0   \n",
       "146654  Bs.As. G.B.A. Zona Oeste   Tres de Febrero    3.0       2.0   \n",
       "146655    Bs.As. G.B.A. Zona Sur       Berazategui    2.0       1.0   \n",
       "\n",
       "        bathrooms  surface_total  surface_covered     price  \\\n",
       "1             2.0           70.0             58.0  159000.0   \n",
       "3             1.0           85.0             50.0  295000.0   \n",
       "8             1.0           45.0             37.0   89000.0   \n",
       "9             1.0           45.0             37.0   89000.0   \n",
       "10            2.0           66.0             49.0  170000.0   \n",
       "...           ...            ...              ...       ...   \n",
       "146644        2.0           97.0             80.0  260000.0   \n",
       "146645        2.0           90.0             80.0  250000.0   \n",
       "146646        2.0           96.0             83.0  280000.0   \n",
       "146654        2.0          161.0             80.0  200000.0   \n",
       "146655        1.0           54.0             48.0  165000.0   \n",
       "\n",
       "                                                    title  \\\n",
       "1        Espectacular PH reciclado en Boedo sin expensas.   \n",
       "3       COSTA RICA 5800 / PALERMO HOLLYWOOD / VENTA PH...   \n",
       "8       PH SIN EXPENSAS, AMPLIO MONOAMBIENTE DIVISIBLE...   \n",
       "9       PH SIN EXPENSAS, AMPLIO MONOAMBIENTE DIVISIBLE...   \n",
       "10      Villa Pueyrredón PH 2 ambientes con 2 terrazas...   \n",
       "...                                                   ...   \n",
       "146644   Departamento en venta en Santa Barbara; Terrazas   \n",
       "146645             DEPARTAMENTO EN VENTA EN SANTA BARBARA   \n",
       "146646   VENTA departamento en Terrazas de Santa Bárbara.   \n",
       "146654  Los Geranio al 6200 Venta Depto cochera terraz...   \n",
       "146655  Departamento en Venta en Barrio Privado Barran...   \n",
       "\n",
       "                                              description property_type  \n",
       "1        PH reciclado en Boedo a una cuadra de la plaz...            PH  \n",
       "3       HERMOSO PH EN PALERMO!!!2 AMBIENTES TOTALMENTE...            PH  \n",
       "8       VENTA DE PH, EN EXCELENTE ESTADO, EN PARQUE PA...            PH  \n",
       "9       VENTA DE PH, EN EXCELENTE ESTADO, EN PARQUE PA...            PH  \n",
       "10      PH CON TERRAZAS PROPIAS EN DUPLEX MUY LUMINOSO...            PH  \n",
       "...                                                   ...           ...  \n",
       "146644  OPORTUNIDAD! Departamento en venta en el Barri...  Departamento  \n",
       "146645  Departamento en venta en Complejo Terrazas del...  Departamento  \n",
       "146646  Venta de departamento de 2 dormitorios en el c...  Departamento  \n",
       "146654  Único departamento Amplio balcón terraza 76 m2...  Departamento  \n",
       "146655  Departamento de 2 ambientesCocina con alacena ...  Departamento  \n",
       "\n",
       "[74210 rows x 17 columns]"
      ]
     },
     "execution_count": 38,
     "metadata": {},
     "output_type": "execute_result"
    }
   ],
   "source": [
    "data_filtro = data_filtro.drop(columns = ['operation_type','currency'])\n",
    "data_filtro"
   ]
  },
  {
   "cell_type": "markdown",
   "id": "vocal-sunglasses",
   "metadata": {},
   "source": [
    "Si bien ya podemos leer las columnas 'title' y 'description' no creo que nos brinde información util ya que en general se componen de la informacion 'tipo de propiedad' en venta 'alguna caracteristica buena'. Por lo tanto las eliminare"
   ]
  },
  {
   "cell_type": "code",
   "execution_count": 39,
   "id": "healthy-carol",
   "metadata": {},
   "outputs": [
    {
     "data": {
      "text/html": [
       "<div>\n",
       "<style scoped>\n",
       "    .dataframe tbody tr th:only-of-type {\n",
       "        vertical-align: middle;\n",
       "    }\n",
       "\n",
       "    .dataframe tbody tr th {\n",
       "        vertical-align: top;\n",
       "    }\n",
       "\n",
       "    .dataframe thead th {\n",
       "        text-align: right;\n",
       "    }\n",
       "</style>\n",
       "<table border=\"1\" class=\"dataframe\">\n",
       "  <thead>\n",
       "    <tr style=\"text-align: right;\">\n",
       "      <th></th>\n",
       "      <th>start_date</th>\n",
       "      <th>end_date</th>\n",
       "      <th>created_on</th>\n",
       "      <th>lat</th>\n",
       "      <th>lon</th>\n",
       "      <th>l1</th>\n",
       "      <th>l2</th>\n",
       "      <th>l3</th>\n",
       "      <th>rooms</th>\n",
       "      <th>bedrooms</th>\n",
       "      <th>bathrooms</th>\n",
       "      <th>surface_total</th>\n",
       "      <th>surface_covered</th>\n",
       "      <th>price</th>\n",
       "      <th>property_type</th>\n",
       "    </tr>\n",
       "  </thead>\n",
       "  <tbody>\n",
       "    <tr>\n",
       "      <th>1</th>\n",
       "      <td>2019-10-17</td>\n",
       "      <td>2019-11-21</td>\n",
       "      <td>2019-10-17</td>\n",
       "      <td>-34.624056</td>\n",
       "      <td>-58.412110</td>\n",
       "      <td>Argentina</td>\n",
       "      <td>Capital Federal</td>\n",
       "      <td>Boedo</td>\n",
       "      <td>2.0</td>\n",
       "      <td>1.0</td>\n",
       "      <td>2.0</td>\n",
       "      <td>70.0</td>\n",
       "      <td>58.0</td>\n",
       "      <td>159000.0</td>\n",
       "      <td>PH</td>\n",
       "    </tr>\n",
       "    <tr>\n",
       "      <th>3</th>\n",
       "      <td>2019-10-17</td>\n",
       "      <td>2019-12-23</td>\n",
       "      <td>2019-10-17</td>\n",
       "      <td>-34.581294</td>\n",
       "      <td>-58.436754</td>\n",
       "      <td>Argentina</td>\n",
       "      <td>Capital Federal</td>\n",
       "      <td>Palermo</td>\n",
       "      <td>2.0</td>\n",
       "      <td>1.0</td>\n",
       "      <td>1.0</td>\n",
       "      <td>85.0</td>\n",
       "      <td>50.0</td>\n",
       "      <td>295000.0</td>\n",
       "      <td>PH</td>\n",
       "    </tr>\n",
       "    <tr>\n",
       "      <th>8</th>\n",
       "      <td>2019-10-17</td>\n",
       "      <td>2019-12-23</td>\n",
       "      <td>2019-10-17</td>\n",
       "      <td>-34.639598</td>\n",
       "      <td>-58.419612</td>\n",
       "      <td>Argentina</td>\n",
       "      <td>Capital Federal</td>\n",
       "      <td>Parque Patricios</td>\n",
       "      <td>1.0</td>\n",
       "      <td>1.0</td>\n",
       "      <td>1.0</td>\n",
       "      <td>45.0</td>\n",
       "      <td>37.0</td>\n",
       "      <td>89000.0</td>\n",
       "      <td>PH</td>\n",
       "    </tr>\n",
       "    <tr>\n",
       "      <th>9</th>\n",
       "      <td>2019-10-17</td>\n",
       "      <td>2019-12-23</td>\n",
       "      <td>2019-10-17</td>\n",
       "      <td>-34.639598</td>\n",
       "      <td>-58.419612</td>\n",
       "      <td>Argentina</td>\n",
       "      <td>Capital Federal</td>\n",
       "      <td>Parque Patricios</td>\n",
       "      <td>1.0</td>\n",
       "      <td>1.0</td>\n",
       "      <td>1.0</td>\n",
       "      <td>45.0</td>\n",
       "      <td>37.0</td>\n",
       "      <td>89000.0</td>\n",
       "      <td>PH</td>\n",
       "    </tr>\n",
       "    <tr>\n",
       "      <th>10</th>\n",
       "      <td>2019-10-17</td>\n",
       "      <td>2019-12-07</td>\n",
       "      <td>2019-10-17</td>\n",
       "      <td>-34.586225</td>\n",
       "      <td>-58.496220</td>\n",
       "      <td>Argentina</td>\n",
       "      <td>Capital Federal</td>\n",
       "      <td>Villa Pueyrredón</td>\n",
       "      <td>2.0</td>\n",
       "      <td>1.0</td>\n",
       "      <td>2.0</td>\n",
       "      <td>66.0</td>\n",
       "      <td>49.0</td>\n",
       "      <td>170000.0</td>\n",
       "      <td>PH</td>\n",
       "    </tr>\n",
       "    <tr>\n",
       "      <th>...</th>\n",
       "      <td>...</td>\n",
       "      <td>...</td>\n",
       "      <td>...</td>\n",
       "      <td>...</td>\n",
       "      <td>...</td>\n",
       "      <td>...</td>\n",
       "      <td>...</td>\n",
       "      <td>...</td>\n",
       "      <td>...</td>\n",
       "      <td>...</td>\n",
       "      <td>...</td>\n",
       "      <td>...</td>\n",
       "      <td>...</td>\n",
       "      <td>...</td>\n",
       "      <td>...</td>\n",
       "    </tr>\n",
       "    <tr>\n",
       "      <th>146644</th>\n",
       "      <td>2019-07-31</td>\n",
       "      <td>2019-08-14</td>\n",
       "      <td>2019-07-31</td>\n",
       "      <td>-34.445077</td>\n",
       "      <td>-58.621163</td>\n",
       "      <td>Argentina</td>\n",
       "      <td>Bs.As. G.B.A. Zona Norte</td>\n",
       "      <td>Tigre</td>\n",
       "      <td>3.0</td>\n",
       "      <td>2.0</td>\n",
       "      <td>2.0</td>\n",
       "      <td>97.0</td>\n",
       "      <td>80.0</td>\n",
       "      <td>260000.0</td>\n",
       "      <td>Departamento</td>\n",
       "    </tr>\n",
       "    <tr>\n",
       "      <th>146645</th>\n",
       "      <td>2019-07-31</td>\n",
       "      <td>2019-08-14</td>\n",
       "      <td>2019-07-31</td>\n",
       "      <td>-34.446847</td>\n",
       "      <td>-58.632600</td>\n",
       "      <td>Argentina</td>\n",
       "      <td>Bs.As. G.B.A. Zona Norte</td>\n",
       "      <td>Tigre</td>\n",
       "      <td>3.0</td>\n",
       "      <td>2.0</td>\n",
       "      <td>2.0</td>\n",
       "      <td>90.0</td>\n",
       "      <td>80.0</td>\n",
       "      <td>250000.0</td>\n",
       "      <td>Departamento</td>\n",
       "    </tr>\n",
       "    <tr>\n",
       "      <th>146646</th>\n",
       "      <td>2019-07-31</td>\n",
       "      <td>2019-09-04</td>\n",
       "      <td>2019-07-31</td>\n",
       "      <td>-34.444630</td>\n",
       "      <td>-58.620901</td>\n",
       "      <td>Argentina</td>\n",
       "      <td>Bs.As. G.B.A. Zona Norte</td>\n",
       "      <td>Tigre</td>\n",
       "      <td>3.0</td>\n",
       "      <td>2.0</td>\n",
       "      <td>2.0</td>\n",
       "      <td>96.0</td>\n",
       "      <td>83.0</td>\n",
       "      <td>280000.0</td>\n",
       "      <td>Departamento</td>\n",
       "    </tr>\n",
       "    <tr>\n",
       "      <th>146654</th>\n",
       "      <td>2019-07-31</td>\n",
       "      <td>2019-11-02</td>\n",
       "      <td>2019-07-31</td>\n",
       "      <td>-34.602389</td>\n",
       "      <td>-58.591058</td>\n",
       "      <td>Argentina</td>\n",
       "      <td>Bs.As. G.B.A. Zona Oeste</td>\n",
       "      <td>Tres de Febrero</td>\n",
       "      <td>3.0</td>\n",
       "      <td>2.0</td>\n",
       "      <td>2.0</td>\n",
       "      <td>161.0</td>\n",
       "      <td>80.0</td>\n",
       "      <td>200000.0</td>\n",
       "      <td>Departamento</td>\n",
       "    </tr>\n",
       "    <tr>\n",
       "      <th>146655</th>\n",
       "      <td>2019-07-31</td>\n",
       "      <td>2019-08-13</td>\n",
       "      <td>2019-07-31</td>\n",
       "      <td>-34.816348</td>\n",
       "      <td>-58.181963</td>\n",
       "      <td>Argentina</td>\n",
       "      <td>Bs.As. G.B.A. Zona Sur</td>\n",
       "      <td>Berazategui</td>\n",
       "      <td>2.0</td>\n",
       "      <td>1.0</td>\n",
       "      <td>1.0</td>\n",
       "      <td>54.0</td>\n",
       "      <td>48.0</td>\n",
       "      <td>165000.0</td>\n",
       "      <td>Departamento</td>\n",
       "    </tr>\n",
       "  </tbody>\n",
       "</table>\n",
       "<p>74210 rows × 15 columns</p>\n",
       "</div>"
      ],
      "text/plain": [
       "        start_date    end_date  created_on        lat        lon         l1  \\\n",
       "1       2019-10-17  2019-11-21  2019-10-17 -34.624056 -58.412110  Argentina   \n",
       "3       2019-10-17  2019-12-23  2019-10-17 -34.581294 -58.436754  Argentina   \n",
       "8       2019-10-17  2019-12-23  2019-10-17 -34.639598 -58.419612  Argentina   \n",
       "9       2019-10-17  2019-12-23  2019-10-17 -34.639598 -58.419612  Argentina   \n",
       "10      2019-10-17  2019-12-07  2019-10-17 -34.586225 -58.496220  Argentina   \n",
       "...            ...         ...         ...        ...        ...        ...   \n",
       "146644  2019-07-31  2019-08-14  2019-07-31 -34.445077 -58.621163  Argentina   \n",
       "146645  2019-07-31  2019-08-14  2019-07-31 -34.446847 -58.632600  Argentina   \n",
       "146646  2019-07-31  2019-09-04  2019-07-31 -34.444630 -58.620901  Argentina   \n",
       "146654  2019-07-31  2019-11-02  2019-07-31 -34.602389 -58.591058  Argentina   \n",
       "146655  2019-07-31  2019-08-13  2019-07-31 -34.816348 -58.181963  Argentina   \n",
       "\n",
       "                              l2                l3  rooms  bedrooms  \\\n",
       "1                Capital Federal             Boedo    2.0       1.0   \n",
       "3                Capital Federal           Palermo    2.0       1.0   \n",
       "8                Capital Federal  Parque Patricios    1.0       1.0   \n",
       "9                Capital Federal  Parque Patricios    1.0       1.0   \n",
       "10               Capital Federal  Villa Pueyrredón    2.0       1.0   \n",
       "...                          ...               ...    ...       ...   \n",
       "146644  Bs.As. G.B.A. Zona Norte             Tigre    3.0       2.0   \n",
       "146645  Bs.As. G.B.A. Zona Norte             Tigre    3.0       2.0   \n",
       "146646  Bs.As. G.B.A. Zona Norte             Tigre    3.0       2.0   \n",
       "146654  Bs.As. G.B.A. Zona Oeste   Tres de Febrero    3.0       2.0   \n",
       "146655    Bs.As. G.B.A. Zona Sur       Berazategui    2.0       1.0   \n",
       "\n",
       "        bathrooms  surface_total  surface_covered     price property_type  \n",
       "1             2.0           70.0             58.0  159000.0            PH  \n",
       "3             1.0           85.0             50.0  295000.0            PH  \n",
       "8             1.0           45.0             37.0   89000.0            PH  \n",
       "9             1.0           45.0             37.0   89000.0            PH  \n",
       "10            2.0           66.0             49.0  170000.0            PH  \n",
       "...           ...            ...              ...       ...           ...  \n",
       "146644        2.0           97.0             80.0  260000.0  Departamento  \n",
       "146645        2.0           90.0             80.0  250000.0  Departamento  \n",
       "146646        2.0           96.0             83.0  280000.0  Departamento  \n",
       "146654        2.0          161.0             80.0  200000.0  Departamento  \n",
       "146655        1.0           54.0             48.0  165000.0  Departamento  \n",
       "\n",
       "[74210 rows x 15 columns]"
      ]
     },
     "execution_count": 39,
     "metadata": {},
     "output_type": "execute_result"
    }
   ],
   "source": [
    "data_filtro = data_filtro.drop(columns = ['title','description'])\n",
    "data_filtro"
   ]
  },
  {
   "cell_type": "markdown",
   "id": "valuable-tsunami",
   "metadata": {},
   "source": [
    "En tanto a las variables categoricas l1, l2 y l3, las trabajaré mas adelante junto con la latitud y longitud"
   ]
  },
  {
   "cell_type": "markdown",
   "id": "enclosed-capture",
   "metadata": {},
   "source": [
    "### Imputación de valores faltantes"
   ]
  },
  {
   "cell_type": "code",
   "execution_count": 40,
   "id": "unique-orientation",
   "metadata": {},
   "outputs": [
    {
     "data": {
      "text/plain": [
       "start_date         0\n",
       "end_date           0\n",
       "created_on         0\n",
       "lat                0\n",
       "lon                0\n",
       "l1                 0\n",
       "l2                 0\n",
       "l3                 0\n",
       "rooms              0\n",
       "bedrooms           0\n",
       "bathrooms          0\n",
       "surface_total      0\n",
       "surface_covered    0\n",
       "price              0\n",
       "property_type      0\n",
       "dtype: int64"
      ]
     },
     "execution_count": 40,
     "metadata": {},
     "output_type": "execute_result"
    }
   ],
   "source": [
    "datosNull = data_filtro.isna().sum()\n",
    "datosNull"
   ]
  },
  {
   "cell_type": "markdown",
   "id": "creative-nancy",
   "metadata": {},
   "source": [
    "Los valores nulos han sido eliminados con los outliers"
   ]
  },
  {
   "cell_type": "markdown",
   "id": "treated-buyer",
   "metadata": {},
   "source": [
    "### Escalado de datos"
   ]
  },
  {
   "cell_type": "markdown",
   "id": "alike-behalf",
   "metadata": {},
   "source": [
    "Utilizaré escalado ya que hay mucha diferencia en las unidades, es decir, no es lo mismo una unidad en baños que una unidad en superficie o precio, por lo tanto para que nuestro modelo no sea suceptible a esto, realizaré escalado de datos."
   ]
  },
  {
   "cell_type": "code",
   "execution_count": 41,
   "id": "eligible-destruction",
   "metadata": {},
   "outputs": [
    {
     "data": {
      "text/html": [
       "<div>\n",
       "<style scoped>\n",
       "    .dataframe tbody tr th:only-of-type {\n",
       "        vertical-align: middle;\n",
       "    }\n",
       "\n",
       "    .dataframe tbody tr th {\n",
       "        vertical-align: top;\n",
       "    }\n",
       "\n",
       "    .dataframe thead th {\n",
       "        text-align: right;\n",
       "    }\n",
       "</style>\n",
       "<table border=\"1\" class=\"dataframe\">\n",
       "  <thead>\n",
       "    <tr style=\"text-align: right;\">\n",
       "      <th></th>\n",
       "      <th>start_date</th>\n",
       "      <th>end_date</th>\n",
       "      <th>created_on</th>\n",
       "      <th>lat</th>\n",
       "      <th>lon</th>\n",
       "      <th>l1</th>\n",
       "      <th>l2</th>\n",
       "      <th>l3</th>\n",
       "      <th>rooms</th>\n",
       "      <th>bedrooms</th>\n",
       "      <th>bathrooms</th>\n",
       "      <th>surface_total</th>\n",
       "      <th>surface_covered</th>\n",
       "      <th>price</th>\n",
       "      <th>property_type</th>\n",
       "    </tr>\n",
       "  </thead>\n",
       "  <tbody>\n",
       "    <tr>\n",
       "      <th>1</th>\n",
       "      <td>2019-10-17</td>\n",
       "      <td>2019-11-21</td>\n",
       "      <td>2019-10-17</td>\n",
       "      <td>-34.624056</td>\n",
       "      <td>-58.412110</td>\n",
       "      <td>Argentina</td>\n",
       "      <td>Capital Federal</td>\n",
       "      <td>Boedo</td>\n",
       "      <td>2.0</td>\n",
       "      <td>1.0</td>\n",
       "      <td>2.0</td>\n",
       "      <td>70.0</td>\n",
       "      <td>58.0</td>\n",
       "      <td>159000.0</td>\n",
       "      <td>PH</td>\n",
       "    </tr>\n",
       "    <tr>\n",
       "      <th>3</th>\n",
       "      <td>2019-10-17</td>\n",
       "      <td>2019-12-23</td>\n",
       "      <td>2019-10-17</td>\n",
       "      <td>-34.581294</td>\n",
       "      <td>-58.436754</td>\n",
       "      <td>Argentina</td>\n",
       "      <td>Capital Federal</td>\n",
       "      <td>Palermo</td>\n",
       "      <td>2.0</td>\n",
       "      <td>1.0</td>\n",
       "      <td>1.0</td>\n",
       "      <td>85.0</td>\n",
       "      <td>50.0</td>\n",
       "      <td>295000.0</td>\n",
       "      <td>PH</td>\n",
       "    </tr>\n",
       "    <tr>\n",
       "      <th>8</th>\n",
       "      <td>2019-10-17</td>\n",
       "      <td>2019-12-23</td>\n",
       "      <td>2019-10-17</td>\n",
       "      <td>-34.639598</td>\n",
       "      <td>-58.419612</td>\n",
       "      <td>Argentina</td>\n",
       "      <td>Capital Federal</td>\n",
       "      <td>Parque Patricios</td>\n",
       "      <td>1.0</td>\n",
       "      <td>1.0</td>\n",
       "      <td>1.0</td>\n",
       "      <td>45.0</td>\n",
       "      <td>37.0</td>\n",
       "      <td>89000.0</td>\n",
       "      <td>PH</td>\n",
       "    </tr>\n",
       "    <tr>\n",
       "      <th>9</th>\n",
       "      <td>2019-10-17</td>\n",
       "      <td>2019-12-23</td>\n",
       "      <td>2019-10-17</td>\n",
       "      <td>-34.639598</td>\n",
       "      <td>-58.419612</td>\n",
       "      <td>Argentina</td>\n",
       "      <td>Capital Federal</td>\n",
       "      <td>Parque Patricios</td>\n",
       "      <td>1.0</td>\n",
       "      <td>1.0</td>\n",
       "      <td>1.0</td>\n",
       "      <td>45.0</td>\n",
       "      <td>37.0</td>\n",
       "      <td>89000.0</td>\n",
       "      <td>PH</td>\n",
       "    </tr>\n",
       "    <tr>\n",
       "      <th>10</th>\n",
       "      <td>2019-10-17</td>\n",
       "      <td>2019-12-07</td>\n",
       "      <td>2019-10-17</td>\n",
       "      <td>-34.586225</td>\n",
       "      <td>-58.496220</td>\n",
       "      <td>Argentina</td>\n",
       "      <td>Capital Federal</td>\n",
       "      <td>Villa Pueyrredón</td>\n",
       "      <td>2.0</td>\n",
       "      <td>1.0</td>\n",
       "      <td>2.0</td>\n",
       "      <td>66.0</td>\n",
       "      <td>49.0</td>\n",
       "      <td>170000.0</td>\n",
       "      <td>PH</td>\n",
       "    </tr>\n",
       "    <tr>\n",
       "      <th>...</th>\n",
       "      <td>...</td>\n",
       "      <td>...</td>\n",
       "      <td>...</td>\n",
       "      <td>...</td>\n",
       "      <td>...</td>\n",
       "      <td>...</td>\n",
       "      <td>...</td>\n",
       "      <td>...</td>\n",
       "      <td>...</td>\n",
       "      <td>...</td>\n",
       "      <td>...</td>\n",
       "      <td>...</td>\n",
       "      <td>...</td>\n",
       "      <td>...</td>\n",
       "      <td>...</td>\n",
       "    </tr>\n",
       "    <tr>\n",
       "      <th>146644</th>\n",
       "      <td>2019-07-31</td>\n",
       "      <td>2019-08-14</td>\n",
       "      <td>2019-07-31</td>\n",
       "      <td>-34.445077</td>\n",
       "      <td>-58.621163</td>\n",
       "      <td>Argentina</td>\n",
       "      <td>Bs.As. G.B.A. Zona Norte</td>\n",
       "      <td>Tigre</td>\n",
       "      <td>3.0</td>\n",
       "      <td>2.0</td>\n",
       "      <td>2.0</td>\n",
       "      <td>97.0</td>\n",
       "      <td>80.0</td>\n",
       "      <td>260000.0</td>\n",
       "      <td>Departamento</td>\n",
       "    </tr>\n",
       "    <tr>\n",
       "      <th>146645</th>\n",
       "      <td>2019-07-31</td>\n",
       "      <td>2019-08-14</td>\n",
       "      <td>2019-07-31</td>\n",
       "      <td>-34.446847</td>\n",
       "      <td>-58.632600</td>\n",
       "      <td>Argentina</td>\n",
       "      <td>Bs.As. G.B.A. Zona Norte</td>\n",
       "      <td>Tigre</td>\n",
       "      <td>3.0</td>\n",
       "      <td>2.0</td>\n",
       "      <td>2.0</td>\n",
       "      <td>90.0</td>\n",
       "      <td>80.0</td>\n",
       "      <td>250000.0</td>\n",
       "      <td>Departamento</td>\n",
       "    </tr>\n",
       "    <tr>\n",
       "      <th>146646</th>\n",
       "      <td>2019-07-31</td>\n",
       "      <td>2019-09-04</td>\n",
       "      <td>2019-07-31</td>\n",
       "      <td>-34.444630</td>\n",
       "      <td>-58.620901</td>\n",
       "      <td>Argentina</td>\n",
       "      <td>Bs.As. G.B.A. Zona Norte</td>\n",
       "      <td>Tigre</td>\n",
       "      <td>3.0</td>\n",
       "      <td>2.0</td>\n",
       "      <td>2.0</td>\n",
       "      <td>96.0</td>\n",
       "      <td>83.0</td>\n",
       "      <td>280000.0</td>\n",
       "      <td>Departamento</td>\n",
       "    </tr>\n",
       "    <tr>\n",
       "      <th>146654</th>\n",
       "      <td>2019-07-31</td>\n",
       "      <td>2019-11-02</td>\n",
       "      <td>2019-07-31</td>\n",
       "      <td>-34.602389</td>\n",
       "      <td>-58.591058</td>\n",
       "      <td>Argentina</td>\n",
       "      <td>Bs.As. G.B.A. Zona Oeste</td>\n",
       "      <td>Tres de Febrero</td>\n",
       "      <td>3.0</td>\n",
       "      <td>2.0</td>\n",
       "      <td>2.0</td>\n",
       "      <td>161.0</td>\n",
       "      <td>80.0</td>\n",
       "      <td>200000.0</td>\n",
       "      <td>Departamento</td>\n",
       "    </tr>\n",
       "    <tr>\n",
       "      <th>146655</th>\n",
       "      <td>2019-07-31</td>\n",
       "      <td>2019-08-13</td>\n",
       "      <td>2019-07-31</td>\n",
       "      <td>-34.816348</td>\n",
       "      <td>-58.181963</td>\n",
       "      <td>Argentina</td>\n",
       "      <td>Bs.As. G.B.A. Zona Sur</td>\n",
       "      <td>Berazategui</td>\n",
       "      <td>2.0</td>\n",
       "      <td>1.0</td>\n",
       "      <td>1.0</td>\n",
       "      <td>54.0</td>\n",
       "      <td>48.0</td>\n",
       "      <td>165000.0</td>\n",
       "      <td>Departamento</td>\n",
       "    </tr>\n",
       "  </tbody>\n",
       "</table>\n",
       "<p>74210 rows × 15 columns</p>\n",
       "</div>"
      ],
      "text/plain": [
       "        start_date    end_date  created_on        lat        lon         l1  \\\n",
       "1       2019-10-17  2019-11-21  2019-10-17 -34.624056 -58.412110  Argentina   \n",
       "3       2019-10-17  2019-12-23  2019-10-17 -34.581294 -58.436754  Argentina   \n",
       "8       2019-10-17  2019-12-23  2019-10-17 -34.639598 -58.419612  Argentina   \n",
       "9       2019-10-17  2019-12-23  2019-10-17 -34.639598 -58.419612  Argentina   \n",
       "10      2019-10-17  2019-12-07  2019-10-17 -34.586225 -58.496220  Argentina   \n",
       "...            ...         ...         ...        ...        ...        ...   \n",
       "146644  2019-07-31  2019-08-14  2019-07-31 -34.445077 -58.621163  Argentina   \n",
       "146645  2019-07-31  2019-08-14  2019-07-31 -34.446847 -58.632600  Argentina   \n",
       "146646  2019-07-31  2019-09-04  2019-07-31 -34.444630 -58.620901  Argentina   \n",
       "146654  2019-07-31  2019-11-02  2019-07-31 -34.602389 -58.591058  Argentina   \n",
       "146655  2019-07-31  2019-08-13  2019-07-31 -34.816348 -58.181963  Argentina   \n",
       "\n",
       "                              l2                l3  rooms  bedrooms  \\\n",
       "1                Capital Federal             Boedo    2.0       1.0   \n",
       "3                Capital Federal           Palermo    2.0       1.0   \n",
       "8                Capital Federal  Parque Patricios    1.0       1.0   \n",
       "9                Capital Federal  Parque Patricios    1.0       1.0   \n",
       "10               Capital Federal  Villa Pueyrredón    2.0       1.0   \n",
       "...                          ...               ...    ...       ...   \n",
       "146644  Bs.As. G.B.A. Zona Norte             Tigre    3.0       2.0   \n",
       "146645  Bs.As. G.B.A. Zona Norte             Tigre    3.0       2.0   \n",
       "146646  Bs.As. G.B.A. Zona Norte             Tigre    3.0       2.0   \n",
       "146654  Bs.As. G.B.A. Zona Oeste   Tres de Febrero    3.0       2.0   \n",
       "146655    Bs.As. G.B.A. Zona Sur       Berazategui    2.0       1.0   \n",
       "\n",
       "        bathrooms  surface_total  surface_covered     price property_type  \n",
       "1             2.0           70.0             58.0  159000.0            PH  \n",
       "3             1.0           85.0             50.0  295000.0            PH  \n",
       "8             1.0           45.0             37.0   89000.0            PH  \n",
       "9             1.0           45.0             37.0   89000.0            PH  \n",
       "10            2.0           66.0             49.0  170000.0            PH  \n",
       "...           ...            ...              ...       ...           ...  \n",
       "146644        2.0           97.0             80.0  260000.0  Departamento  \n",
       "146645        2.0           90.0             80.0  250000.0  Departamento  \n",
       "146646        2.0           96.0             83.0  280000.0  Departamento  \n",
       "146654        2.0          161.0             80.0  200000.0  Departamento  \n",
       "146655        1.0           54.0             48.0  165000.0  Departamento  \n",
       "\n",
       "[74210 rows x 15 columns]"
      ]
     },
     "execution_count": 41,
     "metadata": {},
     "output_type": "execute_result"
    }
   ],
   "source": [
    "data_filtro"
   ]
  },
  {
   "cell_type": "markdown",
   "id": "wireless-royalty",
   "metadata": {},
   "source": [
    "Para empezar voy a eliminar las columnas de fechas ya que por el momento no las voy a utilizar"
   ]
  },
  {
   "cell_type": "code",
   "execution_count": 42,
   "id": "authorized-steering",
   "metadata": {},
   "outputs": [],
   "source": [
    "data_filtro = data_filtro.drop(columns = [\"start_date\",\"end_date\",\"created_on\"])"
   ]
  },
  {
   "cell_type": "code",
   "execution_count": 43,
   "id": "independent-differential",
   "metadata": {},
   "outputs": [
    {
     "data": {
      "text/html": [
       "<div>\n",
       "<style scoped>\n",
       "    .dataframe tbody tr th:only-of-type {\n",
       "        vertical-align: middle;\n",
       "    }\n",
       "\n",
       "    .dataframe tbody tr th {\n",
       "        vertical-align: top;\n",
       "    }\n",
       "\n",
       "    .dataframe thead th {\n",
       "        text-align: right;\n",
       "    }\n",
       "</style>\n",
       "<table border=\"1\" class=\"dataframe\">\n",
       "  <thead>\n",
       "    <tr style=\"text-align: right;\">\n",
       "      <th></th>\n",
       "      <th>lat</th>\n",
       "      <th>lon</th>\n",
       "      <th>l1</th>\n",
       "      <th>l2</th>\n",
       "      <th>l3</th>\n",
       "      <th>rooms</th>\n",
       "      <th>bedrooms</th>\n",
       "      <th>bathrooms</th>\n",
       "      <th>surface_total</th>\n",
       "      <th>surface_covered</th>\n",
       "      <th>price</th>\n",
       "      <th>property_type</th>\n",
       "    </tr>\n",
       "  </thead>\n",
       "  <tbody>\n",
       "    <tr>\n",
       "      <th>1</th>\n",
       "      <td>-34.624056</td>\n",
       "      <td>-58.412110</td>\n",
       "      <td>Argentina</td>\n",
       "      <td>Capital Federal</td>\n",
       "      <td>Boedo</td>\n",
       "      <td>2.0</td>\n",
       "      <td>1.0</td>\n",
       "      <td>2.0</td>\n",
       "      <td>70.0</td>\n",
       "      <td>58.0</td>\n",
       "      <td>159000.0</td>\n",
       "      <td>PH</td>\n",
       "    </tr>\n",
       "    <tr>\n",
       "      <th>3</th>\n",
       "      <td>-34.581294</td>\n",
       "      <td>-58.436754</td>\n",
       "      <td>Argentina</td>\n",
       "      <td>Capital Federal</td>\n",
       "      <td>Palermo</td>\n",
       "      <td>2.0</td>\n",
       "      <td>1.0</td>\n",
       "      <td>1.0</td>\n",
       "      <td>85.0</td>\n",
       "      <td>50.0</td>\n",
       "      <td>295000.0</td>\n",
       "      <td>PH</td>\n",
       "    </tr>\n",
       "    <tr>\n",
       "      <th>8</th>\n",
       "      <td>-34.639598</td>\n",
       "      <td>-58.419612</td>\n",
       "      <td>Argentina</td>\n",
       "      <td>Capital Federal</td>\n",
       "      <td>Parque Patricios</td>\n",
       "      <td>1.0</td>\n",
       "      <td>1.0</td>\n",
       "      <td>1.0</td>\n",
       "      <td>45.0</td>\n",
       "      <td>37.0</td>\n",
       "      <td>89000.0</td>\n",
       "      <td>PH</td>\n",
       "    </tr>\n",
       "    <tr>\n",
       "      <th>9</th>\n",
       "      <td>-34.639598</td>\n",
       "      <td>-58.419612</td>\n",
       "      <td>Argentina</td>\n",
       "      <td>Capital Federal</td>\n",
       "      <td>Parque Patricios</td>\n",
       "      <td>1.0</td>\n",
       "      <td>1.0</td>\n",
       "      <td>1.0</td>\n",
       "      <td>45.0</td>\n",
       "      <td>37.0</td>\n",
       "      <td>89000.0</td>\n",
       "      <td>PH</td>\n",
       "    </tr>\n",
       "    <tr>\n",
       "      <th>10</th>\n",
       "      <td>-34.586225</td>\n",
       "      <td>-58.496220</td>\n",
       "      <td>Argentina</td>\n",
       "      <td>Capital Federal</td>\n",
       "      <td>Villa Pueyrredón</td>\n",
       "      <td>2.0</td>\n",
       "      <td>1.0</td>\n",
       "      <td>2.0</td>\n",
       "      <td>66.0</td>\n",
       "      <td>49.0</td>\n",
       "      <td>170000.0</td>\n",
       "      <td>PH</td>\n",
       "    </tr>\n",
       "    <tr>\n",
       "      <th>...</th>\n",
       "      <td>...</td>\n",
       "      <td>...</td>\n",
       "      <td>...</td>\n",
       "      <td>...</td>\n",
       "      <td>...</td>\n",
       "      <td>...</td>\n",
       "      <td>...</td>\n",
       "      <td>...</td>\n",
       "      <td>...</td>\n",
       "      <td>...</td>\n",
       "      <td>...</td>\n",
       "      <td>...</td>\n",
       "    </tr>\n",
       "    <tr>\n",
       "      <th>146644</th>\n",
       "      <td>-34.445077</td>\n",
       "      <td>-58.621163</td>\n",
       "      <td>Argentina</td>\n",
       "      <td>Bs.As. G.B.A. Zona Norte</td>\n",
       "      <td>Tigre</td>\n",
       "      <td>3.0</td>\n",
       "      <td>2.0</td>\n",
       "      <td>2.0</td>\n",
       "      <td>97.0</td>\n",
       "      <td>80.0</td>\n",
       "      <td>260000.0</td>\n",
       "      <td>Departamento</td>\n",
       "    </tr>\n",
       "    <tr>\n",
       "      <th>146645</th>\n",
       "      <td>-34.446847</td>\n",
       "      <td>-58.632600</td>\n",
       "      <td>Argentina</td>\n",
       "      <td>Bs.As. G.B.A. Zona Norte</td>\n",
       "      <td>Tigre</td>\n",
       "      <td>3.0</td>\n",
       "      <td>2.0</td>\n",
       "      <td>2.0</td>\n",
       "      <td>90.0</td>\n",
       "      <td>80.0</td>\n",
       "      <td>250000.0</td>\n",
       "      <td>Departamento</td>\n",
       "    </tr>\n",
       "    <tr>\n",
       "      <th>146646</th>\n",
       "      <td>-34.444630</td>\n",
       "      <td>-58.620901</td>\n",
       "      <td>Argentina</td>\n",
       "      <td>Bs.As. G.B.A. Zona Norte</td>\n",
       "      <td>Tigre</td>\n",
       "      <td>3.0</td>\n",
       "      <td>2.0</td>\n",
       "      <td>2.0</td>\n",
       "      <td>96.0</td>\n",
       "      <td>83.0</td>\n",
       "      <td>280000.0</td>\n",
       "      <td>Departamento</td>\n",
       "    </tr>\n",
       "    <tr>\n",
       "      <th>146654</th>\n",
       "      <td>-34.602389</td>\n",
       "      <td>-58.591058</td>\n",
       "      <td>Argentina</td>\n",
       "      <td>Bs.As. G.B.A. Zona Oeste</td>\n",
       "      <td>Tres de Febrero</td>\n",
       "      <td>3.0</td>\n",
       "      <td>2.0</td>\n",
       "      <td>2.0</td>\n",
       "      <td>161.0</td>\n",
       "      <td>80.0</td>\n",
       "      <td>200000.0</td>\n",
       "      <td>Departamento</td>\n",
       "    </tr>\n",
       "    <tr>\n",
       "      <th>146655</th>\n",
       "      <td>-34.816348</td>\n",
       "      <td>-58.181963</td>\n",
       "      <td>Argentina</td>\n",
       "      <td>Bs.As. G.B.A. Zona Sur</td>\n",
       "      <td>Berazategui</td>\n",
       "      <td>2.0</td>\n",
       "      <td>1.0</td>\n",
       "      <td>1.0</td>\n",
       "      <td>54.0</td>\n",
       "      <td>48.0</td>\n",
       "      <td>165000.0</td>\n",
       "      <td>Departamento</td>\n",
       "    </tr>\n",
       "  </tbody>\n",
       "</table>\n",
       "<p>74210 rows × 12 columns</p>\n",
       "</div>"
      ],
      "text/plain": [
       "              lat        lon         l1                        l2  \\\n",
       "1      -34.624056 -58.412110  Argentina           Capital Federal   \n",
       "3      -34.581294 -58.436754  Argentina           Capital Federal   \n",
       "8      -34.639598 -58.419612  Argentina           Capital Federal   \n",
       "9      -34.639598 -58.419612  Argentina           Capital Federal   \n",
       "10     -34.586225 -58.496220  Argentina           Capital Federal   \n",
       "...           ...        ...        ...                       ...   \n",
       "146644 -34.445077 -58.621163  Argentina  Bs.As. G.B.A. Zona Norte   \n",
       "146645 -34.446847 -58.632600  Argentina  Bs.As. G.B.A. Zona Norte   \n",
       "146646 -34.444630 -58.620901  Argentina  Bs.As. G.B.A. Zona Norte   \n",
       "146654 -34.602389 -58.591058  Argentina  Bs.As. G.B.A. Zona Oeste   \n",
       "146655 -34.816348 -58.181963  Argentina    Bs.As. G.B.A. Zona Sur   \n",
       "\n",
       "                      l3  rooms  bedrooms  bathrooms  surface_total  \\\n",
       "1                  Boedo    2.0       1.0        2.0           70.0   \n",
       "3                Palermo    2.0       1.0        1.0           85.0   \n",
       "8       Parque Patricios    1.0       1.0        1.0           45.0   \n",
       "9       Parque Patricios    1.0       1.0        1.0           45.0   \n",
       "10      Villa Pueyrredón    2.0       1.0        2.0           66.0   \n",
       "...                  ...    ...       ...        ...            ...   \n",
       "146644             Tigre    3.0       2.0        2.0           97.0   \n",
       "146645             Tigre    3.0       2.0        2.0           90.0   \n",
       "146646             Tigre    3.0       2.0        2.0           96.0   \n",
       "146654   Tres de Febrero    3.0       2.0        2.0          161.0   \n",
       "146655       Berazategui    2.0       1.0        1.0           54.0   \n",
       "\n",
       "        surface_covered     price property_type  \n",
       "1                  58.0  159000.0            PH  \n",
       "3                  50.0  295000.0            PH  \n",
       "8                  37.0   89000.0            PH  \n",
       "9                  37.0   89000.0            PH  \n",
       "10                 49.0  170000.0            PH  \n",
       "...                 ...       ...           ...  \n",
       "146644             80.0  260000.0  Departamento  \n",
       "146645             80.0  250000.0  Departamento  \n",
       "146646             83.0  280000.0  Departamento  \n",
       "146654             80.0  200000.0  Departamento  \n",
       "146655             48.0  165000.0  Departamento  \n",
       "\n",
       "[74210 rows x 12 columns]"
      ]
     },
     "execution_count": 43,
     "metadata": {},
     "output_type": "execute_result"
    }
   ],
   "source": [
    "data_filtro"
   ]
  },
  {
   "cell_type": "markdown",
   "id": "failing-union",
   "metadata": {},
   "source": [
    "Tambien voy a eliminar las columnas l1 l2 y l3 que quedan representadas por la latitud y longitud"
   ]
  },
  {
   "cell_type": "code",
   "execution_count": 44,
   "id": "fundamental-recall",
   "metadata": {},
   "outputs": [],
   "source": [
    "data_filtro = data_filtro.drop(columns = [\"l1\",\"l2\",\"l3\"])"
   ]
  },
  {
   "cell_type": "markdown",
   "id": "mexican-pursuit",
   "metadata": {},
   "source": [
    "Creare una funcion para utilizar standardscaler y que sea mas rapido escalar todos los datos, ya que tengo que hacer lo mismo para cada uno. Cabe destacar que esta funcion solo sirve para este dataset en esta instacia, ya que estamos usando la variable \"data_filtro\" haciendo que la funcion no sea reutilizable para otro dataset"
   ]
  },
  {
   "cell_type": "code",
   "execution_count": 45,
   "id": "radical-joining",
   "metadata": {},
   "outputs": [],
   "source": [
    "def escalador(columna):\n",
    "    scaler = StandardScaler()\n",
    "    scaler.fit(data_filtro[columna].values.reshape(-1, 1))\n",
    "    data_filtro[columna] = scaler.transform(data_filtro[columna].values.reshape(-1, 1))"
   ]
  },
  {
   "cell_type": "code",
   "execution_count": 46,
   "id": "hollywood-quest",
   "metadata": {},
   "outputs": [],
   "source": [
    "escalador('lat')\n",
    "escalador('lon')\n",
    "escalador('rooms')\n",
    "escalador('bedrooms')\n",
    "escalador('bathrooms')\n",
    "escalador('surface_total')\n",
    "escalador('surface_covered')\n",
    "escalador('price')"
   ]
  },
  {
   "cell_type": "code",
   "execution_count": 47,
   "id": "authentic-nickname",
   "metadata": {},
   "outputs": [
    {
     "data": {
      "text/html": [
       "<div>\n",
       "<style scoped>\n",
       "    .dataframe tbody tr th:only-of-type {\n",
       "        vertical-align: middle;\n",
       "    }\n",
       "\n",
       "    .dataframe tbody tr th {\n",
       "        vertical-align: top;\n",
       "    }\n",
       "\n",
       "    .dataframe thead th {\n",
       "        text-align: right;\n",
       "    }\n",
       "</style>\n",
       "<table border=\"1\" class=\"dataframe\">\n",
       "  <thead>\n",
       "    <tr style=\"text-align: right;\">\n",
       "      <th></th>\n",
       "      <th>lat</th>\n",
       "      <th>lon</th>\n",
       "      <th>rooms</th>\n",
       "      <th>bedrooms</th>\n",
       "      <th>bathrooms</th>\n",
       "      <th>surface_total</th>\n",
       "      <th>surface_covered</th>\n",
       "      <th>price</th>\n",
       "      <th>property_type</th>\n",
       "    </tr>\n",
       "  </thead>\n",
       "  <tbody>\n",
       "    <tr>\n",
       "      <th>1</th>\n",
       "      <td>-0.402291</td>\n",
       "      <td>0.586008</td>\n",
       "      <td>-0.921236</td>\n",
       "      <td>-1.102087</td>\n",
       "      <td>0.658314</td>\n",
       "      <td>-0.314677</td>\n",
       "      <td>-0.494211</td>\n",
       "      <td>-0.405704</td>\n",
       "      <td>PH</td>\n",
       "    </tr>\n",
       "    <tr>\n",
       "      <th>3</th>\n",
       "      <td>0.107808</td>\n",
       "      <td>0.357136</td>\n",
       "      <td>-0.921236</td>\n",
       "      <td>-1.102087</td>\n",
       "      <td>-0.729175</td>\n",
       "      <td>-0.243867</td>\n",
       "      <td>-0.659907</td>\n",
       "      <td>0.665048</td>\n",
       "      <td>PH</td>\n",
       "    </tr>\n",
       "    <tr>\n",
       "      <th>8</th>\n",
       "      <td>-0.587700</td>\n",
       "      <td>0.516339</td>\n",
       "      <td>-1.799837</td>\n",
       "      <td>-1.102087</td>\n",
       "      <td>-0.729175</td>\n",
       "      <td>-0.432693</td>\n",
       "      <td>-0.929163</td>\n",
       "      <td>-0.956827</td>\n",
       "      <td>PH</td>\n",
       "    </tr>\n",
       "    <tr>\n",
       "      <th>9</th>\n",
       "      <td>-0.587700</td>\n",
       "      <td>0.516339</td>\n",
       "      <td>-1.799837</td>\n",
       "      <td>-1.102087</td>\n",
       "      <td>-0.729175</td>\n",
       "      <td>-0.432693</td>\n",
       "      <td>-0.929163</td>\n",
       "      <td>-0.956827</td>\n",
       "      <td>PH</td>\n",
       "    </tr>\n",
       "    <tr>\n",
       "      <th>10</th>\n",
       "      <td>0.048986</td>\n",
       "      <td>-0.195130</td>\n",
       "      <td>-0.921236</td>\n",
       "      <td>-1.102087</td>\n",
       "      <td>0.658314</td>\n",
       "      <td>-0.333559</td>\n",
       "      <td>-0.680619</td>\n",
       "      <td>-0.319099</td>\n",
       "      <td>PH</td>\n",
       "    </tr>\n",
       "    <tr>\n",
       "      <th>...</th>\n",
       "      <td>...</td>\n",
       "      <td>...</td>\n",
       "      <td>...</td>\n",
       "      <td>...</td>\n",
       "      <td>...</td>\n",
       "      <td>...</td>\n",
       "      <td>...</td>\n",
       "      <td>...</td>\n",
       "      <td>...</td>\n",
       "    </tr>\n",
       "    <tr>\n",
       "      <th>146644</th>\n",
       "      <td>1.732729</td>\n",
       "      <td>-1.355503</td>\n",
       "      <td>-0.042634</td>\n",
       "      <td>-0.025093</td>\n",
       "      <td>0.658314</td>\n",
       "      <td>-0.187219</td>\n",
       "      <td>-0.038548</td>\n",
       "      <td>0.389487</td>\n",
       "      <td>Departamento</td>\n",
       "    </tr>\n",
       "    <tr>\n",
       "      <th>146645</th>\n",
       "      <td>1.711621</td>\n",
       "      <td>-1.461719</td>\n",
       "      <td>-0.042634</td>\n",
       "      <td>-0.025093</td>\n",
       "      <td>0.658314</td>\n",
       "      <td>-0.220264</td>\n",
       "      <td>-0.038548</td>\n",
       "      <td>0.310755</td>\n",
       "      <td>Departamento</td>\n",
       "    </tr>\n",
       "    <tr>\n",
       "      <th>146646</th>\n",
       "      <td>1.738059</td>\n",
       "      <td>-1.353071</td>\n",
       "      <td>-0.042634</td>\n",
       "      <td>-0.025093</td>\n",
       "      <td>0.658314</td>\n",
       "      <td>-0.191940</td>\n",
       "      <td>0.023588</td>\n",
       "      <td>0.546950</td>\n",
       "      <td>Departamento</td>\n",
       "    </tr>\n",
       "    <tr>\n",
       "      <th>146654</th>\n",
       "      <td>-0.143830</td>\n",
       "      <td>-1.075911</td>\n",
       "      <td>-0.042634</td>\n",
       "      <td>-0.025093</td>\n",
       "      <td>0.658314</td>\n",
       "      <td>0.114902</td>\n",
       "      <td>-0.038548</td>\n",
       "      <td>-0.082904</td>\n",
       "      <td>Departamento</td>\n",
       "    </tr>\n",
       "    <tr>\n",
       "      <th>146655</th>\n",
       "      <td>-2.696135</td>\n",
       "      <td>2.723419</td>\n",
       "      <td>-0.921236</td>\n",
       "      <td>-1.102087</td>\n",
       "      <td>-0.729175</td>\n",
       "      <td>-0.390207</td>\n",
       "      <td>-0.701331</td>\n",
       "      <td>-0.358465</td>\n",
       "      <td>Departamento</td>\n",
       "    </tr>\n",
       "  </tbody>\n",
       "</table>\n",
       "<p>74210 rows × 9 columns</p>\n",
       "</div>"
      ],
      "text/plain": [
       "             lat       lon     rooms  bedrooms  bathrooms  surface_total  \\\n",
       "1      -0.402291  0.586008 -0.921236 -1.102087   0.658314      -0.314677   \n",
       "3       0.107808  0.357136 -0.921236 -1.102087  -0.729175      -0.243867   \n",
       "8      -0.587700  0.516339 -1.799837 -1.102087  -0.729175      -0.432693   \n",
       "9      -0.587700  0.516339 -1.799837 -1.102087  -0.729175      -0.432693   \n",
       "10      0.048986 -0.195130 -0.921236 -1.102087   0.658314      -0.333559   \n",
       "...          ...       ...       ...       ...        ...            ...   \n",
       "146644  1.732729 -1.355503 -0.042634 -0.025093   0.658314      -0.187219   \n",
       "146645  1.711621 -1.461719 -0.042634 -0.025093   0.658314      -0.220264   \n",
       "146646  1.738059 -1.353071 -0.042634 -0.025093   0.658314      -0.191940   \n",
       "146654 -0.143830 -1.075911 -0.042634 -0.025093   0.658314       0.114902   \n",
       "146655 -2.696135  2.723419 -0.921236 -1.102087  -0.729175      -0.390207   \n",
       "\n",
       "        surface_covered     price property_type  \n",
       "1             -0.494211 -0.405704            PH  \n",
       "3             -0.659907  0.665048            PH  \n",
       "8             -0.929163 -0.956827            PH  \n",
       "9             -0.929163 -0.956827            PH  \n",
       "10            -0.680619 -0.319099            PH  \n",
       "...                 ...       ...           ...  \n",
       "146644        -0.038548  0.389487  Departamento  \n",
       "146645        -0.038548  0.310755  Departamento  \n",
       "146646         0.023588  0.546950  Departamento  \n",
       "146654        -0.038548 -0.082904  Departamento  \n",
       "146655        -0.701331 -0.358465  Departamento  \n",
       "\n",
       "[74210 rows x 9 columns]"
      ]
     },
     "execution_count": 47,
     "metadata": {},
     "output_type": "execute_result"
    }
   ],
   "source": [
    "data_filtro"
   ]
  },
  {
   "cell_type": "markdown",
   "id": "continuous-applicant",
   "metadata": {},
   "source": [
    "## Modelado"
   ]
  },
  {
   "cell_type": "markdown",
   "id": "rational-copyright",
   "metadata": {},
   "source": [
    "#### Nuevas fuentes de informacion: "
   ]
  },
  {
   "cell_type": "markdown",
   "id": "civil-calvin",
   "metadata": {},
   "source": [
    "Ahora que tenemos nuestro dataset un poco mas limpio voy a implementar distintas tecnicas para el manejo de datos desbalanceados que encontre en las siguientes fuentes: \n",
    "* https://www.aprendemachinelearning.com/clasificacion-con-datos-desbalanceados/\n",
    "* https://machinelearningparatodos.com/tratamiento-de-clases-desbalanceadas/<br>\n",
    "<br>Ademas utilizare las metricas de:\n",
    "* accuracy\n",
    "* precision    \n",
    "* recall\n",
    "* f1-score \n",
    "* matriz de confusion <br>\n",
    "<br>Estas metricas las elegi porque en conjunto se complementan y ayudan a tener una mejor vision en un dataset desbalanceado"
   ]
  },
  {
   "cell_type": "code",
   "execution_count": 48,
   "id": "applicable-guard",
   "metadata": {},
   "outputs": [],
   "source": [
    "def confusion(ytest,y_pred):\n",
    "    names=[\"Casa\",\"Departamento\",\"Otro\",\"PH\"]\n",
    "    cm=confusion_matrix(ytest,y_pred)\n",
    "    f,ax=plt.subplots(figsize=(5,5))\n",
    "    sns.heatmap(cm,annot=True,linewidth=.5,linecolor=\"r\",fmt=\".0f\",ax=ax)\n",
    "    plt.xlabel(\"y_pred\")\n",
    "    plt.ylabel(\"y_true\")\n",
    "    ax.set_xticklabels(names)\n",
    "    ax.set_yticklabels(names)\n",
    "    plt.setp(plt.xticks()[1], rotation=60)\n",
    "    plt.setp(plt.yticks()[1], rotation=0)\n",
    "    plt.show()\n",
    "\n",
    "    return"
   ]
  },
  {
   "cell_type": "code",
   "execution_count": 50,
   "id": "religious-frederick",
   "metadata": {},
   "outputs": [],
   "source": [
    "data_sample = data_filtro.copy()"
   ]
  },
  {
   "cell_type": "code",
   "execution_count": 51,
   "id": "chubby-custody",
   "metadata": {},
   "outputs": [],
   "source": [
    "X = data_sample.drop(columns = ['property_type'])\n",
    "y = data_sample['property_type']"
   ]
  },
  {
   "cell_type": "markdown",
   "id": "dried-determination",
   "metadata": {},
   "source": [
    "Desarrollare 2 modelos, XGBoost y regresion logistica sin ninguna estrategia, sobre el que me de mejores resultados continuare desarrollando las demas estrategias."
   ]
  },
  {
   "cell_type": "markdown",
   "id": "paperback-dinner",
   "metadata": {},
   "source": [
    "### XGBoost - sin estrategia"
   ]
  },
  {
   "cell_type": "code",
   "execution_count": 52,
   "id": "intermediate-demand",
   "metadata": {},
   "outputs": [
    {
     "name": "stdout",
     "output_type": "stream",
     "text": [
      "(51947, 8) (51947,) (22263, 8) (22263,)\n"
     ]
    }
   ],
   "source": [
    "X_train, X_test, y_train, y_test = train_test_split(\n",
    "    X, y, test_size=0.30, random_state=42)\n",
    "\n",
    "print(X_train.shape, y_train.shape, X_test.shape, y_test.shape)"
   ]
  },
  {
   "cell_type": "code",
   "execution_count": 53,
   "id": "completed-amazon",
   "metadata": {},
   "outputs": [],
   "source": [
    "xg_classifier = xgb.XGBClassifier(objective ='reg:squarederror', colsample_bytree = 0.3, learning_rate = 0.1,\n",
    "                max_depth = 5, alpha = 10, n_estimators = 10)"
   ]
  },
  {
   "cell_type": "code",
   "execution_count": 54,
   "id": "dimensional-cause",
   "metadata": {},
   "outputs": [
    {
     "name": "stderr",
     "output_type": "stream",
     "text": [
      "C:\\Users\\Usuario\\miniconda3\\envs\\datascience\\lib\\site-packages\\xgboost\\sklearn.py:888: UserWarning: The use of label encoder in XGBClassifier is deprecated and will be removed in a future release. To remove this warning, do the following: 1) Pass option use_label_encoder=False when constructing XGBClassifier object; and 2) Encode your labels (y) as integers starting with 0, i.e. 0, 1, 2, ..., [num_class - 1].\n",
      "  warnings.warn(label_encoder_deprecation_msg, UserWarning)\n"
     ]
    },
    {
     "name": "stdout",
     "output_type": "stream",
     "text": [
      "[11:19:53] WARNING: ..\\src\\learner.cc:1061: Starting in XGBoost 1.3.0, the default evaluation metric used with the objective 'multi:softprob' was changed from 'merror' to 'mlogloss'. Explicitly set eval_metric if you'd like to restore the old behavior.\n"
     ]
    },
    {
     "data": {
      "text/plain": [
       "XGBClassifier(alpha=10, base_score=0.5, booster='gbtree', colsample_bylevel=1,\n",
       "              colsample_bynode=1, colsample_bytree=0.3, gamma=0, gpu_id=-1,\n",
       "              importance_type='gain', interaction_constraints='',\n",
       "              learning_rate=0.1, max_delta_step=0, max_depth=5,\n",
       "              min_child_weight=1, missing=nan, monotone_constraints='()',\n",
       "              n_estimators=10, n_jobs=4, num_parallel_tree=1,\n",
       "              objective='multi:softprob', random_state=0, reg_alpha=10,\n",
       "              reg_lambda=1, scale_pos_weight=None, subsample=1,\n",
       "              tree_method='exact', validate_parameters=1, verbosity=None)"
      ]
     },
     "execution_count": 54,
     "metadata": {},
     "output_type": "execute_result"
    }
   ],
   "source": [
    "xg_classifier.fit(X_train, y_train)"
   ]
  },
  {
   "cell_type": "code",
   "execution_count": 55,
   "id": "athletic-findings",
   "metadata": {},
   "outputs": [],
   "source": [
    "y_train_pred = xg_classifier.predict(X_train)\n",
    "y_test_pred = xg_classifier.predict(X_test)"
   ]
  },
  {
   "cell_type": "code",
   "execution_count": 56,
   "id": "medical-active",
   "metadata": {},
   "outputs": [
    {
     "name": "stderr",
     "output_type": "stream",
     "text": [
      "C:\\Users\\Usuario\\miniconda3\\envs\\datascience\\lib\\site-packages\\sklearn\\metrics\\_classification.py:1245: UndefinedMetricWarning: Precision and F-score are ill-defined and being set to 0.0 in labels with no predicted samples. Use `zero_division` parameter to control this behavior.\n",
      "  _warn_prf(average, modifier, msg_start, len(result))\n"
     ]
    },
    {
     "name": "stdout",
     "output_type": "stream",
     "text": [
      "Metricas en test: \n",
      "               precision    recall  f1-score   support\n",
      "\n",
      "        Casa       0.88      0.65      0.75      2933\n",
      "Departamento       0.83      1.00      0.91     16759\n",
      "        Otro       0.00      0.00      0.00       100\n",
      "          PH       0.91      0.02      0.03      2471\n",
      "\n",
      "    accuracy                           0.84     22263\n",
      "   macro avg       0.66      0.42      0.42     22263\n",
      "weighted avg       0.84      0.84      0.79     22263\n",
      "\n"
     ]
    },
    {
     "name": "stderr",
     "output_type": "stream",
     "text": [
      "C:\\Users\\Usuario\\miniconda3\\envs\\datascience\\lib\\site-packages\\sklearn\\metrics\\_classification.py:1245: UndefinedMetricWarning: Precision and F-score are ill-defined and being set to 0.0 in labels with no predicted samples. Use `zero_division` parameter to control this behavior.\n",
      "  _warn_prf(average, modifier, msg_start, len(result))\n",
      "C:\\Users\\Usuario\\miniconda3\\envs\\datascience\\lib\\site-packages\\sklearn\\metrics\\_classification.py:1245: UndefinedMetricWarning: Precision and F-score are ill-defined and being set to 0.0 in labels with no predicted samples. Use `zero_division` parameter to control this behavior.\n",
      "  _warn_prf(average, modifier, msg_start, len(result))\n"
     ]
    }
   ],
   "source": [
    "print('Metricas en test:','\\n',classification_report(y_test,y_test_pred))"
   ]
  },
  {
   "cell_type": "code",
   "execution_count": 57,
   "id": "vietnamese-latino",
   "metadata": {},
   "outputs": [
    {
     "data": {
      "image/png": "[encoded data removed]",
      "text/plain": [
       "<Figure size 360x360 with 2 Axes>"
      ]
     },
     "metadata": {},
     "output_type": "display_data"
    }
   ],
   "source": [
    "confusion(y_test,y_test_pred)"
   ]
  },
  {
   "cell_type": "markdown",
   "id": "competitive-consent",
   "metadata": {},
   "source": [
    "Si bien para casa y departamento las metricas son bastante buenas, como era de esperarse para PH y otro son muy malas"
   ]
  },
  {
   "cell_type": "markdown",
   "id": "australian-newman",
   "metadata": {},
   "source": [
    "### Regrasion logistica - sin estrategia"
   ]
  },
  {
   "cell_type": "code",
   "execution_count": 58,
   "id": "intensive-circulation",
   "metadata": {},
   "outputs": [
    {
     "data": {
      "text/plain": [
       "LogisticRegression(random_state=1, solver='newton-cg')"
      ]
     },
     "execution_count": 58,
     "metadata": {},
     "output_type": "execute_result"
    }
   ],
   "source": [
    "clf_base = LogisticRegression(C=1.0,penalty='l2',random_state=1,solver=\"newton-cg\")\n",
    "clf_base.fit(X_train, y_train)"
   ]
  },
  {
   "cell_type": "code",
   "execution_count": 59,
   "id": "retired-exploration",
   "metadata": {},
   "outputs": [],
   "source": [
    "y_train_pred = clf_base.predict(X_train)\n",
    "y_test_pred = clf_base.predict(X_test)"
   ]
  },
  {
   "cell_type": "code",
   "execution_count": 60,
   "id": "julian-boards",
   "metadata": {},
   "outputs": [
    {
     "name": "stdout",
     "output_type": "stream",
     "text": [
      "Metricas en test: \n",
      "               precision    recall  f1-score   support\n",
      "\n",
      "        Casa       0.79      0.79      0.79      2933\n",
      "Departamento       0.88      0.98      0.93     16759\n",
      "        Otro       0.17      0.01      0.02       100\n",
      "          PH       0.48      0.13      0.20      2471\n",
      "\n",
      "    accuracy                           0.86     22263\n",
      "   macro avg       0.58      0.48      0.48     22263\n",
      "weighted avg       0.82      0.86      0.83     22263\n",
      "\n"
     ]
    }
   ],
   "source": [
    "print('Metricas en test:','\\n',classification_report(y_test,y_test_pred))"
   ]
  },
  {
   "cell_type": "code",
   "execution_count": 61,
   "id": "precise-statement",
   "metadata": {},
   "outputs": [
    {
     "data": {
      "image/png": "[encoded data removed]",
      "text/plain": [
       "<Figure size 360x360 with 2 Axes>"
      ]
     },
     "metadata": {},
     "output_type": "display_data"
    }
   ],
   "source": [
    "confusion(y_test,y_test_pred)"
   ]
  },
  {
   "cell_type": "markdown",
   "id": "civic-grounds",
   "metadata": {},
   "source": [
    "Con este modelo se mejora el valor de los obtenidos correctamente para PH, teniendo mejores resultados que XGBoost, por lo tanto seguire con este modelo. "
   ]
  },
  {
   "cell_type": "markdown",
   "id": "german-classification",
   "metadata": {},
   "source": [
    "### Regresion logistica - penalizacion"
   ]
  },
  {
   "cell_type": "code",
   "execution_count": 62,
   "id": "involved-monitoring",
   "metadata": {},
   "outputs": [
    {
     "data": {
      "text/plain": [
       "LogisticRegression(class_weight='balanced', random_state=1, solver='newton-cg')"
      ]
     },
     "execution_count": 62,
     "metadata": {},
     "output_type": "execute_result"
    }
   ],
   "source": [
    "clf_penalizacion = LogisticRegression(C=1.0,penalty='l2',random_state=1,solver=\"newton-cg\",class_weight=\"balanced\")\n",
    "clf_penalizacion.fit(X_train, y_train)"
   ]
  },
  {
   "cell_type": "code",
   "execution_count": 63,
   "id": "proof-vertical",
   "metadata": {},
   "outputs": [],
   "source": [
    "y_train_pred = clf_penalizacion.predict(X_train)\n",
    "y_test_pred = clf_penalizacion.predict(X_test)"
   ]
  },
  {
   "cell_type": "code",
   "execution_count": 64,
   "id": "appreciated-advertiser",
   "metadata": {},
   "outputs": [
    {
     "name": "stdout",
     "output_type": "stream",
     "text": [
      "Metricas en test: \n",
      "               precision    recall  f1-score   support\n",
      "\n",
      "        Casa       0.78      0.62      0.69      2933\n",
      "Departamento       0.95      0.81      0.88     16759\n",
      "        Otro       0.03      0.39      0.05       100\n",
      "          PH       0.32      0.55      0.41      2471\n",
      "\n",
      "    accuracy                           0.76     22263\n",
      "   macro avg       0.52      0.59      0.51     22263\n",
      "weighted avg       0.85      0.76      0.80     22263\n",
      "\n"
     ]
    }
   ],
   "source": [
    "print('Metricas en test:','\\n',classification_report(y_test,y_test_pred))"
   ]
  },
  {
   "cell_type": "code",
   "execution_count": 65,
   "id": "adult-abortion",
   "metadata": {},
   "outputs": [
    {
     "data": {
      "image/png": "[encoded data removed]",
      "text/plain": [
       "<Figure size 360x360 with 2 Axes>"
      ]
     },
     "metadata": {},
     "output_type": "display_data"
    }
   ],
   "source": [
    "confusion(y_test,y_test_pred)"
   ]
  },
  {
   "cell_type": "markdown",
   "id": "annoying-alignment",
   "metadata": {},
   "source": [
    "Si bien vemos que el accuracy baja, las otras metricas son mejores. Ahora esta detectando al menos 1 caso de la categoria otro, que es la mas dificil de detectar ya que son menos registros. Tambien aumenta la cantidad de casos detectados correctamente como PH. "
   ]
  },
  {
   "cell_type": "markdown",
   "id": "alien-spiritual",
   "metadata": {},
   "source": [
    "### Regresion logistica - subsampling en la clase mayoritaria"
   ]
  },
  {
   "cell_type": "code",
   "execution_count": 66,
   "id": "resistant-secretariat",
   "metadata": {},
   "outputs": [
    {
     "name": "stdout",
     "output_type": "stream",
     "text": [
      "Distribution before resampling Counter({'Departamento': 38863, 'Casa': 7002, 'PH': 5845, 'Otro': 237})\n",
      "Distribution after resampling Counter({'Casa': 237, 'Departamento': 237, 'Otro': 237, 'PH': 237})\n"
     ]
    }
   ],
   "source": [
    "us = NearMiss()\n",
    "X_train_res, y_train_res = us.fit_resample(X_train, y_train)\n",
    " \n",
    "print (\"Distribution before resampling {}\".format(Counter(y_train)))\n",
    "print (\"Distribution after resampling {}\".format(Counter(y_train_res)))\n",
    "\n"
   ]
  },
  {
   "cell_type": "code",
   "execution_count": 67,
   "id": "complimentary-exposure",
   "metadata": {},
   "outputs": [
    {
     "data": {
      "text/plain": [
       "LogisticRegression(random_state=1, solver='newton-cg')"
      ]
     },
     "execution_count": 67,
     "metadata": {},
     "output_type": "execute_result"
    }
   ],
   "source": [
    "clf_base = LogisticRegression(C=1.0,penalty='l2',random_state=1,solver=\"newton-cg\")\n",
    "clf_base.fit(X_train_res, y_train_res)"
   ]
  },
  {
   "cell_type": "code",
   "execution_count": 68,
   "id": "extensive-pulse",
   "metadata": {},
   "outputs": [],
   "source": [
    "y_train_pred = clf_base.predict(X_train_res)\n",
    "y_test_pred = clf_base.predict(X_test)"
   ]
  },
  {
   "cell_type": "code",
   "execution_count": 69,
   "id": "former-coordination",
   "metadata": {},
   "outputs": [
    {
     "name": "stdout",
     "output_type": "stream",
     "text": [
      "Metricas en test: \n",
      "               precision    recall  f1-score   support\n",
      "\n",
      "        Casa       0.19      0.43      0.26      2933\n",
      "Departamento       0.97      0.27      0.42     16759\n",
      "        Otro       0.01      0.46      0.02       100\n",
      "          PH       0.15      0.43      0.22      2471\n",
      "\n",
      "    accuracy                           0.31     22263\n",
      "   macro avg       0.33      0.40      0.23     22263\n",
      "weighted avg       0.77      0.31      0.38     22263\n",
      "\n"
     ]
    }
   ],
   "source": [
    "print('Metricas en test:','\\n',classification_report(y_test,y_test_pred))"
   ]
  },
  {
   "cell_type": "code",
   "execution_count": 70,
   "id": "published-theory",
   "metadata": {},
   "outputs": [
    {
     "data": {
      "image/png": "[encoded data removed]",
      "text/plain": [
       "<Figure size 360x360 with 2 Axes>"
      ]
     },
     "metadata": {},
     "output_type": "display_data"
    }
   ],
   "source": [
    "confusion(y_test,y_test_pred)"
   ]
  },
  {
   "cell_type": "markdown",
   "id": "lasting-casino",
   "metadata": {},
   "source": [
    "Como nos encontramos con muy pocos registros de Otro, todos pasan a tener solo 13 registros, lo que es muy poco para poder entrenar un modelo. No considero esta una buena opcion."
   ]
  },
  {
   "cell_type": "markdown",
   "id": "absolute-observation",
   "metadata": {},
   "source": [
    "### Regresion logista - Oversampling de la clase minoritaria"
   ]
  },
  {
   "cell_type": "code",
   "execution_count": 71,
   "id": "solved-yahoo",
   "metadata": {},
   "outputs": [
    {
     "name": "stdout",
     "output_type": "stream",
     "text": [
      "Distribution before resampling Counter({'Departamento': 38863, 'Casa': 7002, 'PH': 5845, 'Otro': 237})\n",
      "Distribution labels after resampling Counter({'Departamento': 38863, 'PH': 38863, 'Casa': 38863, 'Otro': 38863})\n"
     ]
    }
   ],
   "source": [
    "os =  RandomOverSampler()\n",
    "X_train_res, y_train_res = os.fit_resample(X_train, y_train)\n",
    " \n",
    "print (\"Distribution before resampling {}\".format(Counter(y_train)))\n",
    "print (\"Distribution labels after resampling {}\".format(Counter(y_train_res)))"
   ]
  },
  {
   "cell_type": "code",
   "execution_count": 72,
   "id": "blocked-static",
   "metadata": {},
   "outputs": [
    {
     "data": {
      "text/plain": [
       "LogisticRegression(random_state=1, solver='newton-cg')"
      ]
     },
     "execution_count": 72,
     "metadata": {},
     "output_type": "execute_result"
    }
   ],
   "source": [
    "clf_base = LogisticRegression(C=1.0,penalty='l2',random_state=1,solver=\"newton-cg\")\n",
    "clf_base.fit(X_train_res, y_train_res)"
   ]
  },
  {
   "cell_type": "code",
   "execution_count": 73,
   "id": "qualified-natural",
   "metadata": {},
   "outputs": [],
   "source": [
    "y_train_pred = clf_base.predict(X_train_res)\n",
    "y_test_pred = clf_base.predict(X_test)"
   ]
  },
  {
   "cell_type": "code",
   "execution_count": 74,
   "id": "official-washington",
   "metadata": {},
   "outputs": [
    {
     "name": "stdout",
     "output_type": "stream",
     "text": [
      "Metricas en test: \n",
      "               precision    recall  f1-score   support\n",
      "\n",
      "        Casa       0.79      0.61      0.69      2933\n",
      "Departamento       0.95      0.82      0.88     16759\n",
      "        Otro       0.03      0.37      0.05       100\n",
      "          PH       0.32      0.55      0.40      2471\n",
      "\n",
      "    accuracy                           0.76     22263\n",
      "   macro avg       0.52      0.59      0.51     22263\n",
      "weighted avg       0.85      0.76      0.80     22263\n",
      "\n"
     ]
    }
   ],
   "source": [
    "print('Metricas en test:','\\n',classification_report(y_test,y_test_pred))"
   ]
  },
  {
   "cell_type": "code",
   "execution_count": 75,
   "id": "institutional-davis",
   "metadata": {},
   "outputs": [
    {
     "data": {
      "image/png": "[encoded data removed]",
      "text/plain": [
       "<Figure size 360x360 with 2 Axes>"
      ]
     },
     "metadata": {},
     "output_type": "display_data"
    }
   ],
   "source": [
    "confusion(y_test,y_test_pred)"
   ]
  },
  {
   "cell_type": "markdown",
   "id": "boxed-emission",
   "metadata": {},
   "source": [
    "Mejora muchisimo los resultados de este modelo. En lo personal pense que no iba a funcionar, ya que solo esta repitiendo informacion."
   ]
  },
  {
   "cell_type": "markdown",
   "id": "peripheral-compilation",
   "metadata": {},
   "source": [
    "### Regresion logistica - resampling con smote-tomek"
   ]
  },
  {
   "cell_type": "code",
   "execution_count": 76,
   "id": "final-patent",
   "metadata": {},
   "outputs": [
    {
     "name": "stdout",
     "output_type": "stream",
     "text": [
      "Distribution before resampling Counter({'Departamento': 38863, 'Casa': 7002, 'PH': 5845, 'Otro': 237})\n",
      "Distribution after resampling Counter({'Otro': 38854, 'Casa': 38760, 'Departamento': 38684, 'PH': 38672})\n"
     ]
    }
   ],
   "source": [
    "os_us = SMOTETomek()\n",
    "X_train_res, y_train_res = os_us.fit_resample(X_train, y_train)\n",
    " \n",
    "print (\"Distribution before resampling {}\".format(Counter(y_train)))\n",
    "print (\"Distribution after resampling {}\".format(Counter(y_train_res)))"
   ]
  },
  {
   "cell_type": "code",
   "execution_count": 77,
   "id": "concrete-pontiac",
   "metadata": {},
   "outputs": [
    {
     "data": {
      "text/plain": [
       "LogisticRegression(random_state=1, solver='newton-cg')"
      ]
     },
     "execution_count": 77,
     "metadata": {},
     "output_type": "execute_result"
    }
   ],
   "source": [
    "clf_base = LogisticRegression(C=1.0,penalty='l2',random_state=1,solver=\"newton-cg\")\n",
    "clf_base.fit(X_train_res, y_train_res)"
   ]
  },
  {
   "cell_type": "code",
   "execution_count": 78,
   "id": "parliamentary-christopher",
   "metadata": {},
   "outputs": [],
   "source": [
    "y_train_pred = clf_base.predict(X_train_res)\n",
    "y_test_pred = clf_base.predict(X_test)"
   ]
  },
  {
   "cell_type": "code",
   "execution_count": 79,
   "id": "ranking-miracle",
   "metadata": {},
   "outputs": [
    {
     "name": "stdout",
     "output_type": "stream",
     "text": [
      "Metricas en test: \n",
      "               precision    recall  f1-score   support\n",
      "\n",
      "        Casa       0.78      0.63      0.70      2933\n",
      "Departamento       0.95      0.80      0.87     16759\n",
      "        Otro       0.03      0.40      0.05       100\n",
      "          PH       0.31      0.54      0.40      2471\n",
      "\n",
      "    accuracy                           0.75     22263\n",
      "   macro avg       0.52      0.59      0.50     22263\n",
      "weighted avg       0.85      0.75      0.79     22263\n",
      "\n"
     ]
    }
   ],
   "source": [
    "print('Metricas en test:','\\n',classification_report(y_test,y_test_pred))"
   ]
  },
  {
   "cell_type": "code",
   "execution_count": 80,
   "id": "olive-knowing",
   "metadata": {},
   "outputs": [
    {
     "data": {
      "image/png": "[encoded data removed]",
      "text/plain": [
       "<Figure size 360x360 with 2 Axes>"
      ]
     },
     "metadata": {},
     "output_type": "display_data"
    }
   ],
   "source": [
    "confusion(y_test,y_test_pred)"
   ]
  },
  {
   "cell_type": "markdown",
   "id": "descending-fleet",
   "metadata": {},
   "source": [
    "En este modelo observamos una pequeña mejoria con respecto al anterior. Obtenemos mucho mejores resultados que los obtenidos sin ninguna estrategia"
   ]
  },
  {
   "cell_type": "markdown",
   "id": "severe-rally",
   "metadata": {},
   "source": [
    "### Ensamble de modelos con balanceo"
   ]
  },
  {
   "cell_type": "code",
   "execution_count": 81,
   "id": "black-disease",
   "metadata": {},
   "outputs": [
    {
     "data": {
      "text/plain": [
       "BalancedBaggingClassifier(base_estimator=DecisionTreeClassifier(),\n",
       "                          random_state=0)"
      ]
     },
     "execution_count": 81,
     "metadata": {},
     "output_type": "execute_result"
    }
   ],
   "source": [
    "bbc = BalancedBaggingClassifier(base_estimator=DecisionTreeClassifier(),\n",
    "                                sampling_strategy='auto',\n",
    "                                replacement=False,\n",
    "                                random_state=0)\n",
    "bbc.fit(X_train, y_train)"
   ]
  },
  {
   "cell_type": "code",
   "execution_count": 82,
   "id": "clinical-continuity",
   "metadata": {},
   "outputs": [],
   "source": [
    "y_train_pred = clf_base.predict(X_train_res)\n",
    "y_test_pred = clf_base.predict(X_test)"
   ]
  },
  {
   "cell_type": "code",
   "execution_count": 83,
   "id": "angry-tribune",
   "metadata": {},
   "outputs": [
    {
     "name": "stdout",
     "output_type": "stream",
     "text": [
      "Metricas en test: \n",
      "               precision    recall  f1-score   support\n",
      "\n",
      "        Casa       0.78      0.63      0.70      2933\n",
      "Departamento       0.95      0.80      0.87     16759\n",
      "        Otro       0.03      0.40      0.05       100\n",
      "          PH       0.31      0.54      0.40      2471\n",
      "\n",
      "    accuracy                           0.75     22263\n",
      "   macro avg       0.52      0.59      0.50     22263\n",
      "weighted avg       0.85      0.75      0.79     22263\n",
      "\n"
     ]
    }
   ],
   "source": [
    "print('Metricas en test:','\\n',classification_report(y_test,y_test_pred))"
   ]
  },
  {
   "cell_type": "code",
   "execution_count": 84,
   "id": "public-contact",
   "metadata": {},
   "outputs": [
    {
     "data": {
      "image/png": "[encoded data removed]",
      "text/plain": [
       "<Figure size 360x360 with 2 Axes>"
      ]
     },
     "metadata": {},
     "output_type": "display_data"
    }
   ],
   "source": [
    "confusion(y_test,y_test_pred)"
   ]
  },
  {
   "cell_type": "markdown",
   "id": "desperate-strategy",
   "metadata": {},
   "source": [
    "### Eleccion de estrategia"
   ]
  },
  {
   "cell_type": "markdown",
   "id": "uniform-mistake",
   "metadata": {},
   "source": [
    "Resumiendo tenemos que:\n",
    "* Penalizacion:  \n",
    "    * Precision - Otro: 0.03\n",
    "    * Recall - Otro: 0.39\n",
    "    * F1score - Otro: 0.05\n",
    "    * Precision - PH: 0.32\n",
    "    * Recall - PH: 0.55\n",
    "    * F1score - PH: 0.41\n",
    "* Subsampling: \n",
    "    * Precision - Otro: 0.01\n",
    "    * Recall - Otro: 0.46\n",
    "    * F1score - Otro: 0.02\n",
    "    * Precision - PH:  0.15\n",
    "    * Recall - PH: 0.43\n",
    "    * F1score - PH: 0.22\n",
    "* Oversamplig:\n",
    "    * Precision - Otro: 0.03\n",
    "    * Recall - Otro: 0.37\n",
    "    * F1score - Otro: 0.05\n",
    "    * Precision - PH: 0.32\n",
    "    * Recall - PH: 0.55\n",
    "    * F1score - PH: 0.40\n",
    "* Smote tomek: \n",
    "    * Precision - Otro: 0.03\n",
    "    * Recall - Otro: 0.40\n",
    "    * F1score - Otro: 0.05\n",
    "    * Precision - PH: 0.31\n",
    "    * Recall - PH: 0.54\n",
    "    * F1score - PH: 0.40\n",
    "* Ensamble: \n",
    "    * Precision - Otro: 0.03\n",
    "    * Recall - Otro: 0.40\n",
    "    * F1score - Otro: 0.05\n",
    "    * Precision - PH: 0.31\n",
    "    * Recall - PH: 0.54\n",
    "    * F1score - PH: 0.40   \n",
    "        "
   ]
  },
  {
   "cell_type": "markdown",
   "id": "judicial-indianapolis",
   "metadata": {},
   "source": [
    "Luego de analizar los resultados de las estrategias implementadas podemos decir que por poca diferencia la mejor estrategia es la penalizacion, seguida de el oversampling. Tiene muy buenos resultados con respecto a el modelo sin ninguna estrategia y si bien nos encontramos con datos que no son tan altos, considero que son buenos. Quizas incrementado la cantidad de muestras elegidas las metricas aumentarian."
   ]
  },
  {
   "cell_type": "markdown",
   "id": "absent-spice",
   "metadata": {},
   "source": [
    "## Conclusion final"
   ]
  },
  {
   "cell_type": "markdown",
   "id": "norwegian-syndicate",
   "metadata": {},
   "source": [
    "Al inicio del proyecto me plantee trabajar con un dataset desbalanceado para ir sumergiendome en datasets un poco mas reales, sabiendo que es muy recurrente encontrarte con este tipo de dataset. Al principio no encontre mucha informacion, simplemente encontre que habia que utilizar distintas metricas y no recaer solo en el accuracy ya que puede dar datos incorrectos. Lo cual es cierto y me fue de importancia para encontrar otras metricas, pero no estaba encontrando como solucionar el problema, que tecnicas habia para poder contrarrestar ese desbalanceo. <br>\n",
    "Luego de buscar por un tiempo, me encontre con 2 paginas (se encuentran mas arriba en el proyecto) que me fueron de suma ayuda, no solo me contaba cuales eran las tecnicas que se podian usar, sino que tambien las implemento, mostrandome codigo util para poder desarrollar mi proyecto. Si bien hubo algunas partes del codigo que me generaban error, pude buscar la solucion bastante rapido googleando. Finalmente contaba con 5 estrategias distintas, que no conocia, para enfrentarme a un dataset desbalanceado. <br>\n",
    "En cuanto a este trabajo en particular me gusto porque era bastante libre y estaba dirigido a investigar, lo que se hace diariamente en el rubro IT. Me llevo nuevos conocimientos y me queda pendiente seguir buscando modelos que me ayuden a trabajar con datasets desbalancedos. <br>\n",
    "En tanto a la carrera de DS, me llevo muchisimos conocimientos nuevos y formas de trabajo mas incorporadas. Como por ejemplo, si se genera un error en el codigo, googlear, buscar en las paginas mas conocidas, alguien mas ya tuvo el mismo problema. Me llevo como tarea desp del curso, seguir investigando sobre nuevos modelos, nuevas formas de tratar a los datos, de mejorar los modelos que ya conozco y seguir leyendo mucho que es una ciencia en pleno auge. "
   ]
  }
 ],
 "metadata": {
  "kernelspec": {
   "display_name": "Python 3",
   "language": "python",
   "name": "python3"
  },
  "language_info": {
   "codemirror_mode": {
    "name": "ipython",
    "version": 3
   },
   "file_extension": ".py",
   "mimetype": "text/x-python",
   "name": "python",
   "nbconvert_exporter": "python",
   "pygments_lexer": "ipython3",
   "version": "3.9.1"
  }
 },
 "nbformat": 4,
 "nbformat_minor": 5
}
